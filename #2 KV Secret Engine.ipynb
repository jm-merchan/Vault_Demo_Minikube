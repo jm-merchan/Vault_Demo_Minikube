{
 "cells": [
  {
   "attachments": {},
   "cell_type": "markdown",
   "id": "01ea1d92",
   "metadata": {},
   "source": [
    "# [KV Secret Engine](https://developer.hashicorp.com/vault/tutorials/secrets-management/versioned-kv)"
   ]
  },
  {
   "cell_type": "code",
   "execution_count": null,
   "id": "c2395ce4",
   "metadata": {},
   "outputs": [],
   "source": [
    "%env  WORKDIR=/tmp/vault"
   ]
  },
  {
   "cell_type": "code",
   "execution_count": null,
   "id": "438576a7",
   "metadata": {},
   "outputs": [],
   "source": [
    "%%bash\n",
    "cat ${WORKDIR}/cluster-keys.json | jq -r \".root_token\""
   ]
  },
  {
   "cell_type": "code",
   "execution_count": null,
   "id": "538fccdc",
   "metadata": {},
   "outputs": [],
   "source": [
    "%env VAULT_ADDR=https://127.0.0.1:8200\n",
    "%env VAULT_TOKEN=hvs.0buy0tW2QcQARwJGQsEyg8Ad\n",
    "%env VAULT_CACERT=/tmp/vault/vault.ca\n",
    "# %env VAULT_NAMESPACE=admin #Enable if using HCP"
   ]
  },
  {
   "cell_type": "code",
   "execution_count": null,
   "id": "f3e86ddc",
   "metadata": {},
   "outputs": [],
   "source": [
    "%%bash\n",
    "vault secrets list -detailed\n",
    "vault secrets disable secret"
   ]
  },
  {
   "cell_type": "code",
   "execution_count": null,
   "id": "9671d4c4",
   "metadata": {},
   "outputs": [],
   "source": [
    "%%bash\n",
    "#Enable KVv2\n",
    "vault secrets enable -version=2 -path=secret kv"
   ]
  },
  {
   "cell_type": "raw",
   "id": "f026bacc",
   "metadata": {},
   "source": [
    "%%bash\n",
    "vault secrets  enable -output-curl-string -version=2 -path=secret kv"
   ]
  },
  {
   "attachments": {},
   "cell_type": "markdown",
   "id": "632eeaef",
   "metadata": {},
   "source": [
    "## Test"
   ]
  },
  {
   "cell_type": "code",
   "execution_count": null,
   "id": "a7fb6ecd",
   "metadata": {},
   "outputs": [],
   "source": [
    "%%bash\n",
    "## Write secret via CLI to Ops path\n",
    "vault kv put secret/ops/acme customer_name=\"ACME Inc.\" \\\n",
    "        contact_email=\"john.smith@acme.com\"\n",
    "vault kv put secret/ops/acme2 customer_name=\"ACME Inc.\" \\\n",
    "        contact_email=\"john.smith@acme.com\"\n",
    "vault kv put secret/ops/acme3 customer_name=\"ACME Inc.\" \\\n",
    "        contact_email=\"john.smith@acme.com\"\n"
   ]
  },
  {
   "cell_type": "code",
   "execution_count": null,
   "id": "2dab74b7",
   "metadata": {},
   "outputs": [],
   "source": [
    "%%bash\n",
    "## Write secret via CLI to Dev path\n",
    "vault kv put secret/dev/acme1 customer_name=\"Vault Inc.\" \\\n",
    "        contact_email=\"jenny.smith@vault.com\"\n",
    "vault kv put secret/dev/acme2 customer_name=\"Vault Inc.\" \\\n",
    "        contact_email=\"jenny.smith@vault.com\"\n",
    "vault kv put secret/dev/acme3 customer_name=\"Vault Inc.\" \\\n",
    "        contact_email=\"jenny.smith@vault.com\""
   ]
  },
  {
   "cell_type": "code",
   "execution_count": null,
   "id": "4f5fce1b",
   "metadata": {},
   "outputs": [],
   "source": [
    "%%bash \n",
    "## Write secret via API\n",
    "## Include a new version of the secret\n",
    "cat > $WORKDIR/secret.json <<EOF\n",
    "{\n",
    "  \"data\": {\n",
    "    \"name\": \"ACME Inc.\",\n",
    "    \"contact_email\": \"jose@acme.com\"\n",
    "  }\n",
    "}\n",
    "EOF\n",
    "\n",
    "## Unlike the kv put, here we have to set the api to v1 and go to the data endpoint\n",
    "## The result is a new version of the existing secret\n",
    "curl -k --header \"X-Vault-Token: $VAULT_TOKEN\" \\\n",
    "   --request POST \\\n",
    "   --data @$WORKDIR/secret.json \\\n",
    "   $VAULT_ADDR/v1/secret/data/ops/acme | jq\n"
   ]
  },
  {
   "cell_type": "code",
   "execution_count": null,
   "id": "af69458e",
   "metadata": {},
   "outputs": [],
   "source": [
    "%%bash\n",
    "## We can add custom metadata\n",
    "tee $WORKDIR/payload_metadata.json <<EOF\n",
    "{\n",
    "  \"custom_metadata\": {\n",
    "    \"Membership\": \"Platinum\",\n",
    "    \"Region\": \"US West\"\n",
    "  }\n",
    "}\n",
    "EOF\n",
    "## Request goes to the metadata and not data endpoint\n",
    "curl -k --header \"X-Vault-Token: $VAULT_TOKEN\" \\\n",
    "   --request POST \\\n",
    "   --data @$WORKDIR/payload_metadata.json \\\n",
    "   $VAULT_ADDR/v1/secret/metadata/ops/acme\n"
   ]
  }
 ],
 "metadata": {
  "kernelspec": {
   "display_name": "Python 3 (ipykernel)",
   "language": "python",
   "name": "python3"
  },
  "language_info": {
   "codemirror_mode": {
    "name": "ipython",
    "version": 3
   },
   "file_extension": ".py",
   "mimetype": "text/x-python",
   "name": "python",
   "nbconvert_exporter": "python",
   "pygments_lexer": "ipython3",
   "version": "3.9.6"
  }
 },
 "nbformat": 4,
 "nbformat_minor": 5
}
