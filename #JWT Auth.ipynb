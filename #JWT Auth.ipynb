{
 "cells": [
  {
   "cell_type": "code",
   "execution_count": null,
   "metadata": {},
   "outputs": [],
   "source": [
    "%env WORKDIR=/tmp/vault\n",
    "%env VAULT_K8S_NAMESPACE=vault\n",
    "%env VAULT_HELM_RELEASE_NAME=vault\n",
    "%env VAULT_SERVICE_NAME=vault-internal \n",
    "%env K8S_CLUSTER_NAME=cluster.local "
   ]
  },
  {
   "cell_type": "code",
   "execution_count": null,
   "metadata": {},
   "outputs": [],
   "source": [
    "%%bash\n",
    "cat ${WORKDIR}/cluster-keys.json | jq -r \".root_token\""
   ]
  },
  {
   "cell_type": "markdown",
   "metadata": {},
   "source": [
    "## https://developer.hashicorp.com/vault/docs/auth/jwt/oidc-providers/kubernetes"
   ]
  },
  {
   "cell_type": "code",
   "execution_count": null,
   "metadata": {},
   "outputs": [],
   "source": [
    "%%bash\n",
    "kubectl create clusterrolebinding oidc-reviewer  \\\n",
    "   --clusterrole=system:service-account-issuer-discovery \\\n",
    "   --group=system:unauthenticated\n"
   ]
  },
  {
   "cell_type": "code",
   "execution_count": null,
   "metadata": {},
   "outputs": [],
   "source": [
    "%%bash\n",
    "ISSUER=\"$(kubectl get --raw /.well-known/openid-configuration | jq -r '.issuer')\"\n",
    "echo $ISSUER"
   ]
  },
  {
   "cell_type": "code",
   "execution_count": null,
   "metadata": {},
   "outputs": [],
   "source": [
    "%%bash\n",
    "kubectl exec vault-0 -n vault -- vault login hvs.RD8vp71RDNbGBTFcKJuD1sFV\n",
    "kubectl exec vault-0 -n vault -- vault auth enable jwt\n",
    "kubectl exec vault-0 -n vault -- vault write auth/jwt/config \\\n",
    "   oidc_discovery_url=https://kubernetes.default.svc.cluster.local \\\n",
    "   # Not required when using EKS\n",
    "   oidc_discovery_ca_pem=@/var/run/secrets/kubernetes.io/serviceaccount/ca.crt"
   ]
  },
  {
   "cell_type": "code",
   "execution_count": null,
   "metadata": {},
   "outputs": [],
   "source": [
    "\n",
    "! kubectl get --raw \"$(kubectl get --raw /.well-known/openid-configuration | jq -r '.jwks_uri' | sed -r 's/.*\\.[^/]+(.*)/\\1/')\" | jq -r\n",
    "! pip3 install pycryptodome"
   ]
  },
  {
   "cell_type": "code",
   "execution_count": null,
   "metadata": {},
   "outputs": [],
   "source": [
    "import base64\n",
    "import binascii\n",
    "from Crypto.PublicKey import RSA\n",
    "\n",
    "jwks_key = {\n",
    "  \"keys\": [\n",
    "    {\n",
    "      \"use\": \"sig\",\n",
    "      \"kty\": \"RSA\",\n",
    "      \"kid\": \"tk1afHmOlH6WXDmueZ7Qep6flST1vGLauAOYspfPO6o\",\n",
    "      \"alg\": \"RS256\",\n",
    "      \"n\": \"zBNt_YeRx4WwYWtNwoDhu08O1rPabTZCE7yeEMOe4HCiJb6QSOYocR2NPE3riag878mMjk5NqWvJ6mOhm3z6jnGRUSSc0ZKt5Jld0a4ZA0Ju361_cDQVEy88Tw4a_0kiS8-tmKT2LimPbKMbQVNZM5rgyiG-CFt0hm6edP5P_tmQN93P_m7jBq9G-4NWHGm0G1Y4oMEsa4h5dVeMX4f9-9zxLdlDVcT3JKdA4xH_0zPXfZK0BXi642sSqIV8fyQXXNrhfIwgGrPEFj4_PEJ3XdDy_FQRVGQDLAs8kWHSJLtkmX4yebrPbMgBRxWUSCg-2mtiX1ZOvU96k9YRVKLKjw\",\n",
    "      \"e\": \"AQAB\"\n",
    "    }\n",
    "  ]\n",
    "}\n",
    "\n",
    "# Select the specific key from the JWKS\n",
    "selected_key = jwks_key['keys'][0]\n",
    "\n",
    "# Decode the base64 values of 'n' and 'e' to bytes\n",
    "n_bytes = base64.urlsafe_b64decode(selected_key['n'] + '==')\n",
    "e_bytes = base64.urlsafe_b64decode(selected_key['e'] + '==')\n",
    "\n",
    "# Construct an RSA key\n",
    "rsa_key = RSA.construct((int(binascii.hexlify(n_bytes), 16), int(binascii.hexlify(e_bytes), 16)))\n",
    "\n",
    "# Convert the RSA key to PEM format\n",
    "pem_key = rsa_key.exportKey(format='PEM')\n",
    "\n",
    "print(pem_key.decode('utf-8'))\n"
   ]
  },
  {
   "cell_type": "raw",
   "metadata": {},
   "source": [
    "# In a terminal\n",
    "# if key validation is required (when there is no connectivity to K8S API)\n",
    "kubectl exec vault-0 -n vault -i -t -- /bin/sh\n",
    "vault write auth/jwt/config \\\n",
    "   jwt_validation_pubkeys=\"-----BEGIN PUBLIC KEY-----\n",
    "MIIBIjANBgkqhkiG9w0BAQEFAAOCAQ8AMIIBCgKCAQEAzBNt/YeRx4WwYWtNwoDhu08O1rPabTZCE7yeEMOe4HCiJb6QSOYocR2NPE3riag878mMjk5NqWvJ6mOhm3z6jnGRUSSc0ZKt5Jld0a4ZA0Ju361/cDQVEy88Tw4a/0kiS8+tmKT2LimPbKMbQVNZM5rgyiG+CFt0hm6edP5P/tmQN93P/m7jBq9G+4NWHGm0G1Y4oMEsa4h5dVeMX4f9+9zxLdlDVcT3JKdA4xH/0zPXfZK0BXi642sSqIV8fyQXXNrhfIwgGrPEFj4/PEJ3XdDy/FQRVGQDLAs8kWHSJLtkmX4yebrPbMgBRxWUSCg+2mtiX1ZOvU96k9YRVKLKjwIDAQAB\n",
    "-----END PUBLIC KEY-----\"\n"
   ]
  },
  {
   "cell_type": "raw",
   "metadata": {},
   "source": [
    "##In a terminal\n",
    "# Enable Kubernetes Authentication\n",
    "\n",
    "kubectl exec -n vault vault-0 -i -t -- /bin/sh\n",
    "---\n",
    "vault write auth/jwt/role/my-role \\\n",
    "   role_type=\"jwt\" \\\n",
    "   bound_audiences=\"https://kubernetes.default.svc.cluster.local\" \\\n",
    "   user_claim=\"sub\" \\\n",
    "   bound_subject=\"system:serviceaccount:default:default\" \\\n",
    "   policies=\"devk8s\" \\\n",
    "   ttl=\"1h\"\n",
    "\n",
    "--- \n",
    "vault write auth/jwt/role/my-role2 \\\n",
    "   role_type=\"jwt\" \\\n",
    "   bound_audiences=\"https://kubernetes.default.svc.cluster.local\" \\\n",
    "   user_claim=\"sub\" \\\n",
    "   bound_subject=\"system:serviceaccount:vault:default\" \\\n",
    "   policies=\"devk8s\" \\\n",
    "   ttl=\"1h\"\n",
    "\n",
    "---\n",
    "vault write auth/jwt/role/my-role3 \\\n",
    "   role_type=\"jwt\" \\\n",
    "   bound_audiences=\"https://kubernetes.default.svc.cluster.local\" \\\n",
    "   user_claim=\"iss\" \\\n",
    "   policies=\"devk8s\" \\\n",
    "   ttl=\"1h\""
   ]
  },
  {
   "cell_type": "code",
   "execution_count": null,
   "metadata": {},
   "outputs": [],
   "source": [
    "%%bash\n",
    "cat ${WORKDIR}/cluster-keys.json | jq -r \".root_token\""
   ]
  },
  {
   "cell_type": "code",
   "execution_count": null,
   "metadata": {},
   "outputs": [],
   "source": [
    "%env VAULT_ADDR=https://127.0.0.1:8200\n",
    "%env VAULT_TOKEN=hvs.RD8vp71RDNbGBTFcKJuD1sFV\n",
    "%env VAULT_CACERT=/tmp/vault/vault.ca"
   ]
  },
  {
   "cell_type": "code",
   "execution_count": null,
   "metadata": {},
   "outputs": [],
   "source": [
    "%%bash\n",
    "# Role associated to default service account in the app namespace\n",
    "vault write auth/kubernetes/role/role1 \\\n",
    "    bound_service_account_names=default \\\n",
    "    bound_service_account_namespaces=vault \\\n",
    "    policies=devk8s \\\n",
    "    ttl=24h\n"
   ]
  },
  {
   "cell_type": "code",
   "execution_count": null,
   "metadata": {},
   "outputs": [],
   "source": [
    "%%bash\n",
    "# Role associated to default service account in the app namespace\n",
    "vault write auth/kubernetes/role/role2 \\\n",
    "    bound_service_account_names=default \\\n",
    "    bound_service_account_namespaces=default \\\n",
    "    policies=devk8s \\\n",
    "    ttl=24h"
   ]
  },
  {
   "cell_type": "code",
   "execution_count": null,
   "metadata": {},
   "outputs": [],
   "source": [
    "%%bash\n",
    "vault policy write devk8s - <<EOF\n",
    "path \"kvv2/*\" {\n",
    "  capabilities = [\"read\"]\n",
    "}\n",
    "EOF\n"
   ]
  },
  {
   "cell_type": "code",
   "execution_count": null,
   "metadata": {},
   "outputs": [],
   "source": [
    "%%bash\n",
    "vault secrets enable -path=kvv2 kv-v2"
   ]
  },
  {
   "cell_type": "code",
   "execution_count": null,
   "metadata": {},
   "outputs": [],
   "source": [
    "%%bash\n",
    "vault kv put kvv2/webapp/config username=\"static-user\" password=\"static-password\""
   ]
  },
  {
   "attachments": {},
   "cell_type": "markdown",
   "metadata": {},
   "source": [
    "### Instalando el VSO usando helm"
   ]
  },
  {
   "cell_type": "code",
   "execution_count": null,
   "metadata": {},
   "outputs": [],
   "source": [
    "%%bash\n",
    "helm repo add hashicorp https://helm.releases.hashicorp.com\n",
    "helm repo update hashicorp\n",
    "helm install --namespace $VAULT_K8S_NAMESPACE vault-secrets-operator hashicorp/vault-secrets-operator\n"
   ]
  },
  {
   "cell_type": "code",
   "execution_count": null,
   "metadata": {},
   "outputs": [],
   "source": [
    "%%bash\n",
    "## VaultConnection Custom Resource\n",
    "# https://developer.hashicorp.com/vault/docs/platform/k8s/vso/sources/vault\n",
    "cat > vso_crd.yaml <<EOF\n",
    "---\n",
    "apiVersion: secrets.hashicorp.com/v1beta1\n",
    "kind: VaultConnection\n",
    "metadata:\n",
    "  namespace: vault\n",
    "  name: example\n",
    "spec:\n",
    "  address: https://vault.vault.svc.cluster.local:8200\n",
    "  skipTLSVerify: true\n",
    "\n",
    "EOF\n",
    "kubectl apply -f vso_crd.yaml\n",
    "echo '---'\n",
    "kubectl describe VaultConnection example -n vault\n"
   ]
  },
  {
   "cell_type": "raw",
   "metadata": {},
   "source": [
    "%%bash\n",
    "## VaultConnection Custom Resource\n",
    "# https://developer.hashicorp.com/vault/docs/platform/k8s/vso/sources/vault\n",
    "export NAMESPACE=vault111\n",
    "kubectl create ns $NAMESPACE\n",
    "cat > vso_crd_${NAMESPACE}.yaml <<EOF\n",
    "---\n",
    "apiVersion: secrets.hashicorp.com/v1beta1\n",
    "kind: VaultConnection\n",
    "metadata:\n",
    "  namespace: $NAMESPACE\n",
    "  name: example\n",
    "spec:\n",
    "  address: https://vault.vault.svc.cluster.local:8200\n",
    "  skipTLSVerify: true\n",
    "\n",
    "EOF\n",
    "kubectl apply -f vso_crd_${NAMESPACE}.yaml\n",
    "echo '---'\n",
    "kubectl describe VaultConnection example -n $NAMESPACE\n"
   ]
  },
  {
   "cell_type": "code",
   "execution_count": null,
   "metadata": {},
   "outputs": [],
   "source": [
    "%%bash\n",
    "# https://developer.hashicorp.com/vault/docs/platform/k8s/vso/api-reference#vaultauthconfigjw\n",
    "\n",
    "cat > vaultauth_crd.yaml <<EOF\n",
    "---\n",
    "apiVersion: secrets.hashicorp.com/v1beta1\n",
    "kind: VaultAuth\n",
    "metadata:\n",
    "  namespace: vault\n",
    "  name: example\n",
    "spec:\n",
    "  # configured in its own Kubernetes namespace.\n",
    "  vaultConnectionRef: example\n",
    "  # Method to use when authenticating to Vault.\n",
    "  method: jwt\n",
    "  # Mount to use when authenticating to auth method.\n",
    "  mount: jwt\n",
    "  # allowedNamespaces: []{\"*\"}\n",
    "  # Kubernetes specific auth configuration, requires that the Method be set to kubernetes.\n",
    "  jwt:\n",
    "    # role to use when authenticating to Vault\n",
    "    role: my-role3\n",
    "    serviceAccount: test\n",
    "    audiences: [\"https://kubernetes.default.svc.cluster.local\"]\n",
    "\n",
    "EOF\n",
    "\n",
    "kubectl apply -f vaultauth_crd.yaml\n",
    "echo '---'\n",
    "kubectl describe VaultAuth example -n vault"
   ]
  },
  {
   "cell_type": "raw",
   "metadata": {},
   "source": [
    "%%bash\n",
    "# https://developer.hashicorp.com/vault/docs/platform/k8s/vso/api-reference#vaultauthconfigjwt\n",
    "export NAMESPACE=vault111\n",
    "cat > vaultauth_crd_${NAMESPACE}.yaml <<EOF\n",
    "# kubectl create sa test -n $NAMESPACE\n",
    "---\n",
    "apiVersion: secrets.hashicorp.com/v1beta1\n",
    "kind: VaultAuth\n",
    "metadata:\n",
    "  namespace: $NAMESPACE\n",
    "  name: example\n",
    "spec:\n",
    "  vaultConnectionRef: example\n",
    "  # Method to use when authenticating to Vault.\n",
    "  method: jwt\n",
    "  # Mount to use when authenticating to auth method.\n",
    "  mount: jwt\n",
    "  # allowedNamespaces: []{\"*\"}\n",
    "  # Kubernetes specific auth configuration, requires that the Method be set to kubernetes.\n",
    "  jwt:\n",
    "    # role to use when authenticating to Vault\n",
    "    role: my-role3\n",
    "    # ServiceAccount to use when authenticating to Vault\n",
    "    # it is recommended to always provide a unique serviceAccount per Pod/application\n",
    "    serviceAccount: default\n",
    "    audiences: [\"https://kubernetes.default.svc.cluster.local\"]\n",
    "EOF\n",
    "\n",
    "kubectl apply -f vaultauth_crd_${NAMESPACE}.yaml\n",
    "echo '---'\n",
    "kubectl describe VaultAuth example -n $NAMESPACE"
   ]
  },
  {
   "attachments": {},
   "cell_type": "markdown",
   "metadata": {},
   "source": [
    "## CRD Static Secret"
   ]
  },
  {
   "cell_type": "code",
   "execution_count": null,
   "metadata": {},
   "outputs": [],
   "source": [
    "%%bash\n",
    "## Support KVv1 and KVv2\n",
    "cat > secret.yaml <<EOF\n",
    "---\n",
    "apiVersion: secrets.hashicorp.com/v1beta1\n",
    "kind: VaultStaticSecret\n",
    "metadata:\n",
    "  namespace: vault\n",
    "  name: example2\n",
    "spec:\n",
    "  vaultAuthRef: example\n",
    "  mount: kvv2\n",
    "  type: kv-v2\n",
    "  path: webapp/config\n",
    "  refreshAfter: 60s\n",
    "  destination:\n",
    "    create: true\n",
    "    name: secret\n",
    "EOF\n",
    "kubectl apply -f secret.yaml\n",
    "echo '---'\n",
    "kubectl describe VaultStaticSecret example2 -n vault\n",
    "echo '---'\n",
    "sleep 5\n",
    "kubectl get secret secret -n vault -o yaml\n"
   ]
  },
  {
   "cell_type": "code",
   "execution_count": null,
   "metadata": {},
   "outputs": [],
   "source": [
    "%%bash\n",
    "## Support KVv1 and KVv2\n",
    "export NAMESPACE=vault111\n",
    "cat > secret_${NAMESPACE}.yaml <<EOF\n",
    "---\n",
    "apiVersion: secrets.hashicorp.com/v1beta1\n",
    "kind: VaultStaticSecret\n",
    "metadata:\n",
    "  namespace: $NAMESPACE\n",
    "  name: example2\n",
    "spec:\n",
    "  vaultAuthRef: example\n",
    "  mount: kvv2\n",
    "  type: kv-v2\n",
    "  path: webapp/config\n",
    "  refreshAfter: 60s\n",
    "  destination:\n",
    "    create: true\n",
    "    name: secret\n",
    "EOF\n",
    "kubectl apply -f secret_${NAMESPACE}.yaml\n",
    "echo '---'\n",
    "kubectl describe VaultStaticSecret example2 -n $NAMESPACE\n",
    "echo '---'\n",
    "sleep 5\n",
    "kubectl get secret secret -n $NAMESPACE -o yaml\n"
   ]
  },
  {
   "cell_type": "code",
   "execution_count": null,
   "metadata": {},
   "outputs": [],
   "source": [
    "%%bash\n",
    "echo \"namespace: Vault\"\n",
    "kubectl get secrets -n vault"
   ]
  },
  {
   "cell_type": "code",
   "execution_count": null,
   "metadata": {},
   "outputs": [],
   "source": [
    "%%bash\n",
    "cat > mypod.yaml <<EOF\n",
    "apiVersion: v1\n",
    "kind: Pod\n",
    "metadata:\n",
    "  name: mypod\n",
    "  namespace: vault\n",
    "spec:\n",
    "  containers:\n",
    "  - name: mypod\n",
    "    image: nginx\n",
    "    volumeMounts:\n",
    "    - name: foo\n",
    "      mountPath: \"/etc/foo\"\n",
    "      readOnly: true\n",
    "  volumes:\n",
    "  - name: foo\n",
    "    secret:\n",
    "      secretName: static-secret1\n",
    "      optional: true\n",
    "EOF\n",
    "kubectl delete -f mypod.yaml\n",
    "sleep 10\n",
    "\n",
    "# https://developer.hashicorp.com/vault/tutorials/kubernetes/vault-secrets-operator"
   ]
  },
  {
   "cell_type": "code",
   "execution_count": null,
   "metadata": {},
   "outputs": [],
   "source": [
    "%%bash \n",
    "kubectl exec mypod -n vault -- ls /etc/foo\n",
    "echo \"\"\n",
    "echo \"------\"\n",
    "kubectl exec mypod -n vault -- cat /etc/foo/_raw"
   ]
  }
 ],
 "metadata": {
  "kernelspec": {
   "display_name": "Python 3",
   "language": "python",
   "name": "python3"
  },
  "language_info": {
   "codemirror_mode": {
    "name": "ipython",
    "version": 3
   },
   "file_extension": ".py",
   "mimetype": "text/x-python",
   "name": "python",
   "nbconvert_exporter": "python",
   "pygments_lexer": "ipython3",
   "version": "3.11.5"
  },
  "orig_nbformat": 4,
  "vscode": {
   "interpreter": {
    "hash": "31f2aee4e71d21fbe5cf8b01ff0e069b9275f58929596ceb00d14d90e3e16cd6"
   }
  }
 },
 "nbformat": 4,
 "nbformat_minor": 2
}
