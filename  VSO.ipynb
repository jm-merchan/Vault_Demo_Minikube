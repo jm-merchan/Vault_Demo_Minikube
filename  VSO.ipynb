{
 "cells": [
  {
   "cell_type": "code",
   "execution_count": 1,
   "metadata": {},
   "outputs": [
    {
     "name": "stdout",
     "output_type": "stream",
     "text": [
      "env: WORKDIR=/tmp/vault\n",
      "env: VAULT_K8S_NAMESPACE=vault\n",
      "env: VAULT_HELM_RELEASE_NAME=vault\n",
      "env: VAULT_SERVICE_NAME=vault-internal\n",
      "env: K8S_CLUSTER_NAME=cluster.local\n"
     ]
    }
   ],
   "source": [
    "%env WORKDIR=/tmp/vault\n",
    "%env VAULT_K8S_NAMESPACE=vault\n",
    "%env VAULT_HELM_RELEASE_NAME=vault\n",
    "%env VAULT_SERVICE_NAME=vault-internal \n",
    "%env K8S_CLUSTER_NAME=cluster.local "
   ]
  },
  {
   "cell_type": "code",
   "execution_count": 2,
   "metadata": {},
   "outputs": [
    {
     "name": "stdout",
     "output_type": "stream",
     "text": [
      "hvs.t4iAw7BbQv5g5NEpK5nRuZGB\n"
     ]
    }
   ],
   "source": [
    "%%bash\n",
    "cat ${WORKDIR}/cluster-keys.json | jq -r \".root_token\""
   ]
  },
  {
   "cell_type": "code",
   "execution_count": 3,
   "metadata": {},
   "outputs": [
    {
     "name": "stdout",
     "output_type": "stream",
     "text": [
      "env: VAULT_ADDR=https://127.0.0.1:8200\n",
      "env: VAULT_TOKEN=hvs.t4iAw7BbQv5g5NEpK5nRuZGB\n",
      "env: VAULT_CACERT=/tmp/vault/vault.ca\n"
     ]
    }
   ],
   "source": [
    "%env VAULT_ADDR=https://127.0.0.1:8200\n",
    "%env VAULT_TOKEN=hvs.t4iAw7BbQv5g5NEpK5nRuZGB\n",
    "%env VAULT_CACERT=/tmp/vault/vault.ca"
   ]
  },
  {
   "cell_type": "raw",
   "metadata": {},
   "source": [
    "##In a terminal\n",
    "# Enable Kubernetes Authentication\n",
    "\n",
    "kubectl exec -n vault vault-0 -i -t -- /bin/sh\n",
    "---\n",
    "vault login <root_token>\n",
    "vault namespace create test\n",
    "vault auth enable -namespace=test kubernetes\n",
    "\n",
    "vault write -namespace=test auth/kubernetes/config kubernetes_host=https://$KUBERNETES_SERVICE_HOST:$KUBERNETES_SERVICE_PORT kubernetes_ca_cert=@/var/run/secrets/kubernetes.io/serviceaccount/ca.crt disable_local_ca_jwt=true\n",
    "\n",
    "vault write -namespace=test auth/kubernetes/role/role \\\n",
    "     bound_service_account_names=default \\\n",
    "     bound_service_account_namespaces=vault \\\n",
    "     policies=ops \\\n",
    "     ttl=24h\n",
    "\n",
    "vault policy write -namespace=test ops - <<EOF\n",
    "path \"kvv2/*\" {\n",
    "  capabilities = [\"read\"]\n",
    "}\n",
    "EOF\n",
    "\n",
    "vault secrets enable -namespace=test -path=kvv2 kv-v2\n",
    "vault kv put -namespace=test kvv2/webapp/config username=\"static-user\" password=\"static-password\"\n"
   ]
  },
  {
   "attachments": {},
   "cell_type": "markdown",
   "metadata": {},
   "source": [
    "### Instalando el VSO usando helm"
   ]
  },
  {
   "cell_type": "code",
   "execution_count": 7,
   "metadata": {},
   "outputs": [
    {
     "name": "stdout",
     "output_type": "stream",
     "text": [
      "NAME                            \tCHART VERSION\tAPP VERSION\tDESCRIPTION                          \n",
      "hashicorp/vault-secrets-operator\t0.3.4        \t0.3.4      \tOfficial Vault Secrets Operator Chart\n",
      "NAME: vault-secrets-operator\n",
      "LAST DEPLOYED: Fri Nov  3 14:19:07 2023\n",
      "NAMESPACE: vault\n",
      "STATUS: deployed\n",
      "REVISION: 1\n"
     ]
    }
   ],
   "source": [
    "%%bash\n",
    "helm search repo hashicorp/vault-secrets-operator --devel\n",
    "helm install --namespace $VAULT_K8S_NAMESPACE vault-secrets-operator hashicorp/vault-secrets-operator\n"
   ]
  },
  {
   "cell_type": "code",
   "execution_count": 8,
   "metadata": {},
   "outputs": [
    {
     "name": "stdout",
     "output_type": "stream",
     "text": [
      "vaultconnection.secrets.hashicorp.com/example created\n",
      "---\n",
      "Name:         example\n",
      "Namespace:    vault\n",
      "Labels:       <none>\n",
      "Annotations:  <none>\n",
      "API Version:  secrets.hashicorp.com/v1beta1\n",
      "Kind:         VaultConnection\n",
      "Metadata:\n",
      "  Creation Timestamp:  2023-11-03T13:19:45Z\n",
      "  Finalizers:\n",
      "    vaultconnection.secrets.hashicorp.com/finalizer\n",
      "  Generation:        1\n",
      "  Resource Version:  1090\n",
      "  UID:               5a588405-8280-44ed-84a9-d6dcb4899c34\n",
      "Spec:\n",
      "  Address:          https://vault.vault.svc.cluster.local:8200\n",
      "  Skip TLS Verify:  true\n",
      "Status:\n",
      "  Valid:  true\n",
      "Events:\n",
      "  Type    Reason    Age   From             Message\n",
      "  ----    ------    ----  ----             -------\n",
      "  Normal  Accepted  0s    VaultConnection  VaultConnection accepted\n"
     ]
    }
   ],
   "source": [
    "%%bash\n",
    "## VaultConnection Custom Resource\n",
    "cat > vso_crd.yaml <<EOF\n",
    "---\n",
    "apiVersion: secrets.hashicorp.com/v1beta1\n",
    "kind: VaultConnection\n",
    "metadata:\n",
    "  namespace: vault\n",
    "  name: example\n",
    "spec:\n",
    "  address: https://vault.vault.svc.cluster.local:8200\n",
    "  skipTLSVerify: true\n",
    "\n",
    "EOF\n",
    "kubectl apply -f vso_crd.yaml\n",
    "echo '---'\n",
    "kubectl describe VaultConnection example -n vault\n"
   ]
  },
  {
   "cell_type": "code",
   "execution_count": 35,
   "metadata": {},
   "outputs": [
    {
     "name": "stdout",
     "output_type": "stream",
     "text": [
      "vaultauth.secrets.hashicorp.com/example configured\n",
      "---\n",
      "Name:         example\n",
      "Namespace:    vault\n",
      "Labels:       <none>\n",
      "Annotations:  <none>\n",
      "API Version:  secrets.hashicorp.com/v1beta1\n",
      "Kind:         VaultAuth\n",
      "Metadata:\n",
      "  Creation Timestamp:  2023-11-03T13:20:51Z\n",
      "  Finalizers:\n",
      "    vaultauth.secrets.hashicorp.com/finalizer\n",
      "  Generation:        4\n",
      "  Resource Version:  7434\n",
      "  UID:               bd0ea454-5cae-4225-bc61-6a62a4c6bf27\n",
      "Spec:\n",
      "  Kubernetes:\n",
      "    Role:                      role\n",
      "    Service Account:           default\n",
      "    Token Expiration Seconds:  600\n",
      "  Method:                      kubernetes\n",
      "  Mount:                       kubernetes\n",
      "  Namespace:                   test\n",
      "  Vault Connection Ref:        example\n",
      "Status:\n",
      "  Error:  \n",
      "  Valid:  true\n",
      "Events:\n",
      "  Type    Reason    Age                From       Message\n",
      "  ----    ------    ----               ----       -------\n",
      "  Normal  Accepted  50m (x3 over 78m)  VaultAuth  Successfully handled VaultAuth resource request\n"
     ]
    }
   ],
   "source": [
    "%%bash\n",
    "cat > vaultauth_crd.yaml <<EOF\n",
    "---\n",
    "apiVersion: secrets.hashicorp.com/v1beta1\n",
    "kind: VaultAuth\n",
    "metadata:\n",
    "  namespace: vault\n",
    "  name: example\n",
    "spec:\n",
    "  vaultConnectionRef: example\n",
    "  method: kubernetes\n",
    "  mount: kubernetes\n",
    "  namespace: \"test\"\n",
    "  kubernetes:\n",
    "    role: role\n",
    "    serviceAccount: default\n",
    "EOF\n",
    "kubectl apply -f vaultauth_crd.yaml\n",
    "echo '---'\n",
    "kubectl describe VaultAuth example -n vault"
   ]
  },
  {
   "cell_type": "code",
   "execution_count": 10,
   "metadata": {},
   "outputs": [
    {
     "name": "stdout",
     "output_type": "stream",
     "text": [
      "clusterrolebinding.rbac.authorization.k8s.io/role-tokenreview-binding created\n"
     ]
    }
   ],
   "source": [
    "%%bash\n",
    "# Add system:auth-delegator to default service account\n",
    "kubectl create -f - <<EOF\n",
    "apiVersion: rbac.authorization.k8s.io/v1\n",
    "kind: ClusterRoleBinding\n",
    "metadata:\n",
    "  name: role-tokenreview-binding\n",
    "roleRef:\n",
    "  apiGroup: rbac.authorization.k8s.io\n",
    "  kind: ClusterRole\n",
    "  name: system:auth-delegator\n",
    "subjects:\n",
    "  - kind: ServiceAccount\n",
    "    name: default\n",
    "    namespace: vault\n",
    "EOF"
   ]
  },
  {
   "attachments": {},
   "cell_type": "markdown",
   "metadata": {},
   "source": [
    "## CRD Static Secret"
   ]
  },
  {
   "cell_type": "code",
   "execution_count": 49,
   "metadata": {},
   "outputs": [
    {
     "name": "stdout",
     "output_type": "stream",
     "text": [
      "vaultstaticsecret.secrets.hashicorp.com/example created\n",
      "---\n",
      "Name:         example\n",
      "Namespace:    vault\n",
      "Labels:       <none>\n",
      "Annotations:  <none>\n",
      "API Version:  secrets.hashicorp.com/v1beta1\n",
      "Kind:         VaultStaticSecret\n",
      "Metadata:\n",
      "  Creation Timestamp:  2023-11-03T15:08:53Z\n",
      "  Generation:          1\n",
      "  Resource Version:    9795\n",
      "  UID:                 0ac1d408-3beb-497d-985f-043f55e63f3a\n",
      "Spec:\n",
      "  Destination:\n",
      "    Create:          true\n",
      "    Name:            static-secret1\n",
      "  Hmac Secret Data:  true\n",
      "  Mount:             kvv2\n",
      "  Namespace:         test\n",
      "  Path:              webapp/config\n",
      "  Refresh After:     60s\n",
      "  Type:              kv-v2\n",
      "  Vault Auth Ref:    example\n",
      "Status:\n",
      "  Secret MAC:  JpNdiBwGhIwNKfYOZAcW3bpviEwa8DxpqOb80JhTqS0=\n",
      "Events:\n",
      "  Type    Reason        Age   From               Message\n",
      "  ----    ------        ----  ----               -------\n",
      "  Normal  SecretSynced  0s    VaultStaticSecret  Secret synced\n",
      "---\n",
      "apiVersion: v1\n",
      "data:\n",
      "  _raw: eyJkYXRhIjp7InBhc3N3b3JkIjoic3RhdGljLXBhc3N3b3JkIiwidXNlcm5hbWUiOiJzdGF0aWMtdXNlciJ9LCJtZXRhZGF0YSI6eyJjcmVhdGVkX3RpbWUiOiIyMDIzLTExLTAzVDEzOjE4OjU2LjAzMTU0NjU0M1oiLCJjdXN0b21fbWV0YWRhdGEiOm51bGwsImRlbGV0aW9uX3RpbWUiOiIiLCJkZXN0cm95ZWQiOmZhbHNlLCJ2ZXJzaW9uIjoxfX0=\n",
      "  password: c3RhdGljLXBhc3N3b3Jk\n",
      "  username: c3RhdGljLXVzZXI=\n",
      "kind: Secret\n",
      "metadata:\n",
      "  creationTimestamp: \"2023-11-03T15:08:53Z\"\n",
      "  labels:\n",
      "    app.kubernetes.io/component: secret-sync\n",
      "    app.kubernetes.io/managed-by: hashicorp-vso\n",
      "    app.kubernetes.io/name: vault-secrets-operator\n",
      "    secrets.hashicorp.com/vso-ownerRefUID: 0ac1d408-3beb-497d-985f-043f55e63f3a\n",
      "  name: static-secret1\n",
      "  namespace: vault\n",
      "  ownerReferences:\n",
      "  - apiVersion: secrets.hashicorp.com/v1beta1\n",
      "    kind: VaultStaticSecret\n",
      "    name: example\n",
      "    uid: 0ac1d408-3beb-497d-985f-043f55e63f3a\n",
      "  resourceVersion: \"9794\"\n",
      "  uid: c2477b42-79de-4c78-959a-3d055a8136df\n",
      "type: Opaque\n"
     ]
    }
   ],
   "source": [
    "%%bash\n",
    "## Support KVv1 and KVv2\n",
    "cat > static_secret.yaml <<EOF\n",
    "---\n",
    "apiVersion: secrets.hashicorp.com/v1beta1\n",
    "kind: VaultStaticSecret\n",
    "metadata:\n",
    "  namespace: vault\n",
    "  name: example\n",
    "spec:\n",
    "  vaultAuthRef: example\n",
    "  namespace: test #Adding Vault namespace\n",
    "  mount: kvv2\n",
    "  type: kv-v2\n",
    "  path: webapp/config\n",
    "  refreshAfter: 60s\n",
    "  destination:\n",
    "    create: true\n",
    "    name: static-secret1\n",
    "EOF\n",
    "kubectl apply -f static_secret.yaml\n",
    "echo '---'\n",
    "kubectl describe VaultStaticSecret example -n vault\n",
    "echo '---'\n",
    "sleep 5\n",
    "kubectl get secret static-secret1 -n vault -o yaml\n"
   ]
  },
  {
   "cell_type": "raw",
   "metadata": {},
   "source": [
    "##In a terminal\n",
    "# Enable Kubernetes Authentication\n",
    "\n",
    "kubectl exec -n vault vault-0 -i -t -- /bin/sh\n",
    "---\n",
    "vault namespace create -namespace=test nested\n",
    "vault auth enable -namespace=test/nested kubernetes\n",
    "\n",
    "vault write -namespace=test/nested auth/kubernetes/config kubernetes_host=https://$KUBERNETES_SERVICE_HOST:$KUBERNETES_SERVICE_PORT kubernetes_ca_cert=@/var/run/secrets/kubernetes.io/serviceaccount/ca.crt disable_local_ca_jwt=true\n",
    "\n",
    "vault write -namespace=test/nested auth/kubernetes/role/role \\\n",
    "     bound_service_account_names=default \\\n",
    "     bound_service_account_namespaces=vault,nested \\ # Including other K8S namespace\n",
    "     policies=ops \\\n",
    "     ttl=24h\n",
    "\n",
    "vault policy write -namespace=test/nested ops - <<EOF\n",
    "path \"kvv2/*\" {\n",
    "  capabilities = [\"read\"]\n",
    "}\n",
    "EOF\n",
    "\n",
    "vault secrets enable -namespace=test/nested -path=kvv2 kv-v2\n",
    "\n",
    "vault kv put -namespace=test/nested kvv2/webapp/config username=\"other-user\" password=\"other-password\""
   ]
  },
  {
   "cell_type": "code",
   "execution_count": 50,
   "metadata": {},
   "outputs": [
    {
     "name": "stdout",
     "output_type": "stream",
     "text": [
      "namespace \"nested\" deleted\n",
      "namespace/nested created\n",
      "clusterrolebinding.rbac.authorization.k8s.io \"role-tokenreview-binding\" deleted\n",
      "clusterrolebinding.rbac.authorization.k8s.io/role-tokenreview-binding created\n",
      "vaultauth.secrets.hashicorp.com/example created\n",
      "---\n",
      "Name:         example\n",
      "Namespace:    vault\n",
      "Labels:       <none>\n",
      "Annotations:  <none>\n",
      "API Version:  secrets.hashicorp.com/v1beta1\n",
      "Kind:         VaultAuth\n",
      "Metadata:\n",
      "  Creation Timestamp:  2023-11-03T13:20:51Z\n",
      "  Finalizers:\n",
      "    vaultauth.secrets.hashicorp.com/finalizer\n",
      "  Generation:        4\n",
      "  Resource Version:  7434\n",
      "  UID:               bd0ea454-5cae-4225-bc61-6a62a4c6bf27\n",
      "Spec:\n",
      "  Kubernetes:\n",
      "    Role:                      role\n",
      "    Service Account:           default\n",
      "    Token Expiration Seconds:  600\n",
      "  Method:                      kubernetes\n",
      "  Mount:                       kubernetes\n",
      "  Namespace:                   test\n",
      "  Vault Connection Ref:        example\n",
      "Status:\n",
      "  Error:  \n",
      "  Valid:  true\n",
      "Events:\n",
      "  Type    Reason    Age                 From       Message\n",
      "  ----    ------    ----                ----       -------\n",
      "  Normal  Accepted  31m (x4 over 110m)  VaultAuth  Successfully handled VaultAuth resource request\n"
     ]
    }
   ],
   "source": [
    "%%bash\n",
    "\n",
    "kubectl create ns nested\n",
    "\n",
    "# Including other service account in the mix\n",
    "kubectl delete ClusterRoleBinding role-tokenreview-binding\n",
    "\n",
    "kubectl create -f - <<EOF\n",
    "apiVersion: rbac.authorization.k8s.io/v1\n",
    "kind: ClusterRoleBinding\n",
    "metadata:\n",
    "  name: role-tokenreview-binding\n",
    "roleRef:\n",
    "  apiGroup: rbac.authorization.k8s.io\n",
    "  kind: ClusterRole\n",
    "  name: system:auth-delegator\n",
    "subjects:\n",
    "  - kind: ServiceAccount\n",
    "    name: default\n",
    "    namespace: vault\n",
    "  - kind: ServiceAccount\n",
    "    name: default\n",
    "    namespace: nested\n",
    "EOF\n",
    "\n",
    "# Adding a VaultAuth in another domain\n",
    "cat > vaultauth_crd.yaml <<EOF\n",
    "---\n",
    "apiVersion: secrets.hashicorp.com/v1beta1\n",
    "kind: VaultAuth\n",
    "metadata:\n",
    "  namespace: nested\n",
    "  name: example\n",
    "spec:\n",
    "  vaultConnectionRef: vault/example\n",
    "  method: kubernetes\n",
    "  mount: kubernetes\n",
    "  namespace: \"test/nested\"\n",
    "  kubernetes:\n",
    "    role: role\n",
    "    serviceAccount: default\n",
    "EOF\n",
    "kubectl apply -f vaultauth_crd.yaml\n",
    "echo '---'\n",
    "kubectl describe VaultAuth example -n vault"
   ]
  },
  {
   "cell_type": "code",
   "execution_count": 53,
   "metadata": {},
   "outputs": [
    {
     "name": "stdout",
     "output_type": "stream",
     "text": [
      "vaultstaticsecret.secrets.hashicorp.com/example created\n",
      "---\n",
      "Name:         example\n",
      "Namespace:    vault\n",
      "Labels:       <none>\n",
      "Annotations:  <none>\n",
      "API Version:  secrets.hashicorp.com/v1beta1\n",
      "Kind:         VaultStaticSecret\n",
      "Metadata:\n",
      "  Creation Timestamp:  2023-11-03T15:08:53Z\n",
      "  Generation:          1\n",
      "  Resource Version:    9795\n",
      "  UID:                 0ac1d408-3beb-497d-985f-043f55e63f3a\n",
      "Spec:\n",
      "  Destination:\n",
      "    Create:          true\n",
      "    Name:            static-secret1\n",
      "  Hmac Secret Data:  true\n",
      "  Mount:             kvv2\n",
      "  Namespace:         test\n",
      "  Path:              webapp/config\n",
      "  Refresh After:     60s\n",
      "  Type:              kv-v2\n",
      "  Vault Auth Ref:    example\n",
      "Status:\n",
      "  Secret MAC:  JpNdiBwGhIwNKfYOZAcW3bpviEwa8DxpqOb80JhTqS0=\n",
      "Events:\n",
      "  Type    Reason        Age                  From               Message\n",
      "  ----    ------        ----                 ----               -------\n",
      "  Normal  SecretSynced  3m45s                VaultStaticSecret  Secret synced\n",
      "  Normal  SecretSync    22s (x4 over 2m55s)  VaultStaticSecret  Secret sync not required\n",
      "---\n",
      "apiVersion: v1\n",
      "data:\n",
      "  _raw: eyJkYXRhIjp7InBhc3N3b3JkIjoic3RhdGljLXBhc3N3b3JkIiwidXNlcm5hbWUiOiJzdGF0aWMtdXNlciJ9LCJtZXRhZGF0YSI6eyJjcmVhdGVkX3RpbWUiOiIyMDIzLTExLTAzVDEzOjE4OjU2LjAzMTU0NjU0M1oiLCJjdXN0b21fbWV0YWRhdGEiOm51bGwsImRlbGV0aW9uX3RpbWUiOiIiLCJkZXN0cm95ZWQiOmZhbHNlLCJ2ZXJzaW9uIjoxfX0=\n",
      "  password: c3RhdGljLXBhc3N3b3Jk\n",
      "  username: c3RhdGljLXVzZXI=\n",
      "kind: Secret\n",
      "metadata:\n",
      "  creationTimestamp: \"2023-11-03T15:08:53Z\"\n",
      "  labels:\n",
      "    app.kubernetes.io/component: secret-sync\n",
      "    app.kubernetes.io/managed-by: hashicorp-vso\n",
      "    app.kubernetes.io/name: vault-secrets-operator\n",
      "    secrets.hashicorp.com/vso-ownerRefUID: 0ac1d408-3beb-497d-985f-043f55e63f3a\n",
      "  name: static-secret1\n",
      "  namespace: vault\n",
      "  ownerReferences:\n",
      "  - apiVersion: secrets.hashicorp.com/v1beta1\n",
      "    kind: VaultStaticSecret\n",
      "    name: example\n",
      "    uid: 0ac1d408-3beb-497d-985f-043f55e63f3a\n",
      "  resourceVersion: \"9794\"\n",
      "  uid: c2477b42-79de-4c78-959a-3d055a8136df\n",
      "type: Opaque\n"
     ]
    }
   ],
   "source": [
    "%%bash\n",
    "## Support KVv1 and KVv2\n",
    "cat > static_secret.yaml <<EOF\n",
    "---\n",
    "apiVersion: secrets.hashicorp.com/v1beta1\n",
    "kind: VaultStaticSecret\n",
    "metadata:\n",
    "  namespace: nested\n",
    "  name: example\n",
    "spec:\n",
    "  vaultAuthRef: example\n",
    "  namespace: test/nested\n",
    "  mount: kvv2\n",
    "  type: kv-v2\n",
    "  path: webapp/config\n",
    "  refreshAfter: 60s\n",
    "  destination:\n",
    "    create: true\n",
    "    name: static-secret1\n",
    "EOF\n",
    "kubectl apply -f static_secret.yaml\n",
    "echo '---'\n",
    "kubectl describe VaultStaticSecret example -n vault\n",
    "echo '---'\n",
    "sleep 5\n",
    "kubectl get secret static-secret1 -n vault -o yaml\n"
   ]
  },
  {
   "cell_type": "code",
   "execution_count": null,
   "metadata": {},
   "outputs": [],
   "source": []
  },
  {
   "cell_type": "code",
   "execution_count": null,
   "metadata": {},
   "outputs": [],
   "source": []
  },
  {
   "cell_type": "code",
   "execution_count": null,
   "metadata": {},
   "outputs": [],
   "source": []
  },
  {
   "cell_type": "code",
   "execution_count": 54,
   "metadata": {},
   "outputs": [
    {
     "name": "stdout",
     "output_type": "stream",
     "text": [
      "pod/mypod created\n"
     ]
    }
   ],
   "source": [
    "%%bash\n",
    "cat > mypod.yaml <<EOF\n",
    "apiVersion: v1\n",
    "kind: Pod\n",
    "metadata:\n",
    "  name: mypod\n",
    "  namespace: nested\n",
    "spec:\n",
    "  containers:\n",
    "  - name: mypod\n",
    "    image: nginx\n",
    "    volumeMounts:\n",
    "    - name: foo\n",
    "      mountPath: \"/etc/foo\"\n",
    "      readOnly: true\n",
    "  volumes:\n",
    "  - name: foo\n",
    "    secret:\n",
    "      secretName: static-secret1\n",
    "      optional: true\n",
    "EOF\n",
    "kubectl apply -f mypod.yaml\n",
    "sleep 10\n",
    "\n",
    "# https://developer.hashicorp.com/vault/tutorials/kubernetes/vault-secrets-operator"
   ]
  },
  {
   "cell_type": "code",
   "execution_count": 55,
   "metadata": {},
   "outputs": [
    {
     "name": "stdout",
     "output_type": "stream",
     "text": [
      "_raw\n",
      "password\n",
      "username\n",
      "\n",
      "------\n",
      "{\"data\":{\"password\":\"other-password\",\"username\":\"other-user\"},\"metadata\":{\"created_time\":\"2023-11-03T15:05:31.848287712Z\",\"custom_metadata\":null,\"deletion_time\":\"\",\"destroyed\":false,\"version\":1}}"
     ]
    }
   ],
   "source": [
    "%%bash \n",
    "kubectl exec mypod -n nested -- ls /etc/foo\n",
    "echo \"\"\n",
    "echo \"------\"\n",
    "kubectl exec mypod -n nested -- cat /etc/foo/_raw"
   ]
  },
  {
   "cell_type": "raw",
   "metadata": {},
   "source": [
    "## In a Terminal\n",
    "# show how K8S authentication works\n",
    "# kubectl run mypod --image=nginx -n vault\n",
    "kubectl exec mypod -n nested -i -t -- /bin/sh\n",
    "--\n",
    "apt update\n",
    "apt install -y jq\n",
    "\n",
    "# Token location\n",
    "KUBE_TOKEN=$(cat /var/run/secrets/kubernetes.io/serviceaccount/token)\n",
    "\n",
    "cat $KUBE_TOKEN\n",
    "\n",
    "# Vault address\n",
    "VAULT_ADDR=https://vault.vault:8200\n",
    "\n",
    "# We sent a POST request to auth/<k8s-mount>/login passing the token and the role\n",
    "curl -k --request POST -H 'X-Vault-Namespace: test/nested' --data '{\"jwt\": \"'\"$KUBE_TOKEN\"'\", \"role\": \"role\"}' $VAULT_ADDR/v1/auth/kubernetes/login | jq -r .\n",
    "\n",
    "# or\n",
    "curl -k --request POST  --data '{\"jwt\": \"'\"$KUBE_TOKEN\"'\", \"role\": \"role\"}' $VAULT_ADDR/v1/test/nested/auth/kubernetes/login | jq -r ."
   ]
  }
 ],
 "metadata": {
  "kernelspec": {
   "display_name": "Python 3",
   "language": "python",
   "name": "python3"
  },
  "language_info": {
   "codemirror_mode": {
    "name": "ipython",
    "version": 3
   },
   "file_extension": ".py",
   "mimetype": "text/x-python",
   "name": "python",
   "nbconvert_exporter": "python",
   "pygments_lexer": "ipython3",
   "version": "3.11.5"
  },
  "orig_nbformat": 4,
  "vscode": {
   "interpreter": {
    "hash": "31f2aee4e71d21fbe5cf8b01ff0e069b9275f58929596ceb00d14d90e3e16cd6"
   }
  }
 },
 "nbformat": 4,
 "nbformat_minor": 2
}
