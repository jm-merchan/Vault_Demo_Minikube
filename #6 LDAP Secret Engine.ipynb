{
 "cells": [
  {
   "cell_type": "code",
   "execution_count": 1,
   "id": "f5493982",
   "metadata": {},
   "outputs": [
    {
     "name": "stdout",
     "output_type": "stream",
     "text": [
      "env: WORKDIR=/tmp/vault\n"
     ]
    }
   ],
   "source": [
    "%env  WORKDIR=/tmp/vault"
   ]
  },
  {
   "cell_type": "code",
   "execution_count": 2,
   "id": "273a0134",
   "metadata": {},
   "outputs": [
    {
     "name": "stdout",
     "output_type": "stream",
     "text": [
      "hvs.kABdKt9HrZusmhHhIbqQSB8W\n"
     ]
    }
   ],
   "source": [
    "%%bash\n",
    "cat ${WORKDIR}/cluster-keys.json | jq -r \".root_token\""
   ]
  },
  {
   "cell_type": "code",
   "execution_count": 3,
   "id": "536498d6",
   "metadata": {},
   "outputs": [
    {
     "name": "stdout",
     "output_type": "stream",
     "text": [
      "env: VAULT_ADDR=https://127.0.0.1:8200\n",
      "env: VAULT_TOKEN=hvs.kABdKt9HrZusmhHhIbqQSB8W\n",
      "env: VAULT_CACERT=/tmp/vault/vault.ca\n"
     ]
    }
   ],
   "source": [
    "%env VAULT_ADDR=https://127.0.0.1:8200\n",
    "%env VAULT_TOKEN=hvs.kABdKt9HrZusmhHhIbqQSB8W\n",
    "%env VAULT_CACERT=/tmp/vault/vault.ca"
   ]
  },
  {
   "attachments": {},
   "cell_type": "markdown",
   "id": "f6cf5961",
   "metadata": {},
   "source": [
    "## Enable LDAP Secret Engine"
   ]
  },
  {
   "cell_type": "code",
   "execution_count": 4,
   "id": "debf4ef0",
   "metadata": {},
   "outputs": [
    {
     "name": "stdout",
     "output_type": "stream",
     "text": [
      "Success! Enabled the ldap secrets engine at: ldap/\n"
     ]
    }
   ],
   "source": [
    "%%bash\n",
    "vault secrets enable ldap"
   ]
  },
  {
   "attachments": {},
   "cell_type": "markdown",
   "id": "bf759d95",
   "metadata": {},
   "source": [
    "## Connect to LDAP with username (bindDN) and password"
   ]
  },
  {
   "cell_type": "code",
   "execution_count": 5,
   "id": "811d6df7",
   "metadata": {},
   "outputs": [
    {
     "name": "stdout",
     "output_type": "stream",
     "text": [
      "Success! Data written to: ldap/config\n"
     ]
    }
   ],
   "source": [
    "%%bash\n",
    "vault write ldap/config \\\n",
    "    binddn=cn=admin,dc=learn,dc=example \\\n",
    "    bindpass=2LearnVault \\\n",
    "    url=ldap://openldap:389\n"
   ]
  },
  {
   "cell_type": "raw",
   "id": "616f4df0",
   "metadata": {},
   "source": [
    "%%bash\n",
    "vault write -f ldap/rotate-root"
   ]
  },
  {
   "attachments": {},
   "cell_type": "markdown",
   "id": "85cdf01c",
   "metadata": {},
   "source": [
    "## Create a Role (Static Role)"
   ]
  },
  {
   "cell_type": "code",
   "execution_count": 6,
   "id": "21f430a7",
   "metadata": {},
   "outputs": [
    {
     "name": "stdout",
     "output_type": "stream",
     "text": [
      "Success! Data written to: ldap/static-role/learn\n"
     ]
    }
   ],
   "source": [
    "%%bash\n",
    "# Automatic Rotation\n",
    "vault write ldap/static-role/learn \\\n",
    "    dn='cn=serviceaccount,ou=users,dc=learn,dc=example' \\\n",
    "    username='serviceaccount' \\\n",
    "    rotation_period=\"1h\"\n"
   ]
  },
  {
   "attachments": {},
   "cell_type": "markdown",
   "id": "d80b4762",
   "metadata": {},
   "source": [
    "## Request credential via CLI"
   ]
  },
  {
   "cell_type": "code",
   "execution_count": 7,
   "id": "5d8c674f",
   "metadata": {},
   "outputs": [
    {
     "name": "stdout",
     "output_type": "stream",
     "text": [
      "Key                    Value\n",
      "---                    -----\n",
      "dn                     cn=serviceaccount,ou=users,dc=learn,dc=example\n",
      "last_password          n/a\n",
      "last_vault_rotation    2023-05-25T15:11:52.259570002Z\n",
      "password               HQZ4bS8tvEYqVu8f5ISnOpK5FKldphGzITCp9JWkVoNjk92vtjqk8APzoudJGQST\n",
      "rotation_period        1h\n",
      "ttl                    59m55s\n",
      "username               serviceaccount\n"
     ]
    }
   ],
   "source": [
    "%%bash\n",
    "vault read ldap/static-cred/learn"
   ]
  },
  {
   "attachments": {},
   "cell_type": "markdown",
   "id": "f512d06a",
   "metadata": {},
   "source": [
    "## Request credential via API"
   ]
  },
  {
   "cell_type": "code",
   "execution_count": 9,
   "id": "f88d11c8",
   "metadata": {},
   "outputs": [
    {
     "name": "stdout",
     "output_type": "stream",
     "text": [
      "{\n",
      "  \"request_id\": \"d6e8e704-e4d0-c858-17ad-971b46ae423b\",\n",
      "  \"lease_id\": \"\",\n",
      "  \"renewable\": false,\n",
      "  \"lease_duration\": 0,\n",
      "  \"data\": {\n",
      "    \"dn\": \"cn=serviceaccount,ou=users,dc=learn,dc=example\",\n",
      "    \"last_password\": \"\",\n",
      "    \"last_vault_rotation\": \"2023-05-25T15:11:52.259570002Z\",\n",
      "    \"password\": \"HQZ4bS8tvEYqVu8f5ISnOpK5FKldphGzITCp9JWkVoNjk92vtjqk8APzoudJGQST\",\n",
      "    \"rotation_period\": 3600,\n",
      "    \"ttl\": 3544,\n",
      "    \"username\": \"serviceaccount\"\n",
      "  },\n",
      "  \"wrap_info\": null,\n",
      "  \"warnings\": null,\n",
      "  \"auth\": null\n",
      "}\n"
     ]
    }
   ],
   "source": [
    "%%bash\n",
    "curl -k \\\n",
    "    --header \"X-Vault-Token: $VAULT_TOKEN\" \\\n",
    "    --request GET \\\n",
    "    --silent \\\n",
    "    $VAULT_ADDR/v1/ldap/static-cred/learn | jq . -r\n"
   ]
  },
  {
   "cell_type": "code",
   "execution_count": null,
   "id": "6f886d2e",
   "metadata": {},
   "outputs": [],
   "source": [
    "%%bash\n",
    "vault read ldap/static-cred/learn\n",
    "# Credetials are rotated in a lazy manner, ttl gets reduced, once it comes to 0 with the next request credential are rotated"
   ]
  },
  {
   "cell_type": "code",
   "execution_count": 10,
   "id": "599b700d",
   "metadata": {},
   "outputs": [
    {
     "name": "stdout",
     "output_type": "stream",
     "text": [
      "Success! Data written to: ldap/rotate-role/learn\n"
     ]
    }
   ],
   "source": [
    "%%bash\n",
    "# Manual rotation\n",
    "vault write -f ldap/rotate-role/learn"
   ]
  },
  {
   "cell_type": "code",
   "execution_count": 11,
   "id": "6b4b45cf",
   "metadata": {},
   "outputs": [
    {
     "name": "stdout",
     "output_type": "stream",
     "text": [
      "Key                    Value\n",
      "---                    -----\n",
      "dn                     cn=serviceaccount,ou=users,dc=learn,dc=example\n",
      "last_password          HQZ4bS8tvEYqVu8f5ISnOpK5FKldphGzITCp9JWkVoNjk92vtjqk8APzoudJGQST\n",
      "last_vault_rotation    2023-05-25T15:13:02.590264132Z\n",
      "password               kkRrmCu4Od4PKZCXwfSqCbYmznSJbH3aOFDsErId4d0y2mJVclA4mNPqA3VrdZYI\n",
      "rotation_period        1h\n",
      "ttl                    59m57s\n",
      "username               serviceaccount\n"
     ]
    }
   ],
   "source": [
    "%%bash\n",
    "vault read ldap/static-cred/learn\n",
    "# Credetials are rotated in a lazy manner, ttl gets reduced, once it comes to 0 with the next request credential are rotated"
   ]
  },
  {
   "attachments": {},
   "cell_type": "markdown",
   "id": "5dace352",
   "metadata": {},
   "source": [
    "## Connecting to LDAP with the static role password"
   ]
  },
  {
   "cell_type": "raw",
   "id": "fbcb1f22",
   "metadata": {},
   "source": [
    "## In a terminal\n",
    "kubectl -n vault port-forward service/openldap 1389:389"
   ]
  },
  {
   "cell_type": "code",
   "execution_count": 12,
   "id": "d8494015",
   "metadata": {},
   "outputs": [
    {
     "name": "stdout",
     "output_type": "stream",
     "text": [
      "# extended LDIF\n",
      "#\n",
      "# LDAPv3\n",
      "# base <cn=serviceaccount,ou=users,dc=learn,dc=example> with scope subtree\n",
      "# filter: (objectclass=*)\n",
      "# requesting: ALL\n",
      "#\n",
      "\n",
      "# serviceaccount, users, learn.example\n",
      "dn: cn=serviceaccount,ou=users,dc=learn,dc=example\n",
      "objectClass: person\n",
      "objectClass: top\n",
      "sn: serviceaccount\n",
      "cn: serviceaccount\n",
      "userPassword:: a2tScm1DdTRPZDRQS1pDWHdmU3FDYlltem5TSmJIM2FPRkRzRXJJZDRkMHkybUp\n",
      " WY2xBNG1OUHFBM1ZyZFpZSQ==\n",
      "\n",
      "# search result\n",
      "search: 2\n",
      "result: 0 Success\n",
      "\n",
      "# numResponses: 2\n",
      "# numEntries: 1\n"
     ]
    }
   ],
   "source": [
    "%%bash\n",
    "LDAP_PASSWORD=$(vault read --format=json ldap/static-cred/learn | jq -r \".data.password\")\n",
    "ldapsearch -p 1389 -h 127.0.0.1 -b \"cn=serviceaccount,ou=users,dc=learn,dc=example\" \\\n",
    "    -D 'cn=serviceaccount,ou=users,dc=learn,dc=example' \\\n",
    "    -w $LDAP_PASSWORD"
   ]
  },
  {
   "attachments": {},
   "cell_type": "markdown",
   "id": "6798a488",
   "metadata": {},
   "source": [
    "## Dynamic Credentials"
   ]
  },
  {
   "cell_type": "code",
   "execution_count": 13,
   "id": "bad0ab79",
   "metadata": {},
   "outputs": [],
   "source": [
    "%%bash\n",
    "cat > ${WORKDIR}/creation.ldif <<EOF\n",
    "dn: uid={{.Username}},ou=users,dc=learn,dc=example\n",
    "objectClass: inetOrgPerson\n",
    "uid: {{.Username}}\n",
    "cn: {{.Username}}\n",
    "sn: {{.Username}}\n",
    "userPassword: {{.Password}}\n",
    "EOF"
   ]
  },
  {
   "cell_type": "code",
   "execution_count": 14,
   "id": "f407728e",
   "metadata": {},
   "outputs": [],
   "source": [
    "%%bash\n",
    "cat > ${WORKDIR}/deletion_rollback.ldif <<EOF\n",
    "dn: uid={{.Username}},ou=users,dc=learn,dc=example\n",
    "changetype: delete\n",
    "EOF"
   ]
  },
  {
   "cell_type": "code",
   "execution_count": 15,
   "id": "b05adb43",
   "metadata": {},
   "outputs": [
    {
     "name": "stdout",
     "output_type": "stream",
     "text": [
      "Success! Data written to: ldap/role/dynamic\n"
     ]
    }
   ],
   "source": [
    "%%bash\n",
    "# Dynamic Role\n",
    "vault write ldap/role/dynamic \\\n",
    "     creation_ldif=@${WORKDIR}/creation.ldif \\\n",
    "     deletion_ldif=@${WORKDIR}/deletion_rollback.ldif \\\n",
    "     rollback_ldif=@${WORKDIR}/deletion_rollback.ldif \\\n",
    "     default_ttl=1h"
   ]
  },
  {
   "cell_type": "code",
   "execution_count": 16,
   "id": "518dd170",
   "metadata": {},
   "outputs": [
    {
     "name": "stdout",
     "output_type": "stream",
     "text": [
      "Key                    Value\n",
      "---                    -----\n",
      "lease_id               ldap/creds/dynamic/OrdIRwfUjyLdguTJ9kKyGj2c\n",
      "lease_duration         1h\n",
      "lease_renewable        true\n",
      "distinguished_names    [uid=v_root_dynamic_bsmTqEKQ0y_1685027654,ou=users,dc=learn,dc=example]\n",
      "password               veYjVxEEZIGNpA1ikr5agNU1vScncTawR1g0vJlSr0ycLpZ3P2bZtFdo6AMqwtCR\n",
      "username               v_root_dynamic_bsmTqEKQ0y_1685027654\n"
     ]
    }
   ],
   "source": [
    "%%bash\n",
    "vault read ldap/creds/dynamic"
   ]
  },
  {
   "cell_type": "code",
   "execution_count": 17,
   "id": "c251b979",
   "metadata": {},
   "outputs": [
    {
     "name": "stdout",
     "output_type": "stream",
     "text": [
      "{\n",
      "  \"request_id\": \"d5e90895-50d3-1933-bf05-e1473b4fb2fd\",\n",
      "  \"lease_id\": \"ldap/creds/dynamic/Npq5DFdfmo62xqDFLZBoAFyp\",\n",
      "  \"renewable\": true,\n",
      "  \"lease_duration\": 3600,\n",
      "  \"data\": {\n",
      "    \"distinguished_names\": [\n",
      "      \"uid=v_root_dynamic_ncn7P21DJi_1685027664,ou=users,dc=learn,dc=example\"\n",
      "    ],\n",
      "    \"password\": \"s8afJHM3H45hUqfSqjJTo5E9sDS4bHgPlSzEagpXXpgjOs9vLyS1EK3PSquaEYLf\",\n",
      "    \"username\": \"v_root_dynamic_ncn7P21DJi_1685027664\"\n",
      "  },\n",
      "  \"wrap_info\": null,\n",
      "  \"warnings\": null,\n",
      "  \"auth\": null\n",
      "}\n"
     ]
    }
   ],
   "source": [
    "%%bash\n",
    "curl -k --header \"X-Vault-Token: $VAULT_TOKEN\" --request GET --silent $VAULT_ADDR/v1/ldap/creds/dynamic | jq"
   ]
  },
  {
   "cell_type": "code",
   "execution_count": 18,
   "id": "2d0620f5",
   "metadata": {},
   "outputs": [
    {
     "name": "stdout",
     "output_type": "stream",
     "text": [
      "{\n",
      "  \"request_id\": \"e24ea14d-02f0-ceeb-6f35-69638ca1fd06\",\n",
      "  \"lease_id\": \"ldap/creds/dynamic/YUVVl6XsTWmYqoqmv6jYdgZz\",\n",
      "  \"renewable\": true,\n",
      "  \"lease_duration\": 3600,\n",
      "  \"data\": {\n",
      "    \"distinguished_names\": [\n",
      "      \"uid=v_root_dynamic_HgRm25abO0_1685027669,ou=users,dc=learn,dc=example\"\n",
      "    ],\n",
      "    \"password\": \"UfP3P3WSZ8go5LPdRL0VtD38yyOrrd30QHtpUnm7QMbwqsYtzxXw8NxqnqDyIitr\",\n",
      "    \"username\": \"v_root_dynamic_HgRm25abO0_1685027669\"\n",
      "  },\n",
      "  \"wrap_info\": null,\n",
      "  \"warnings\": null,\n",
      "  \"auth\": null\n",
      "}\n"
     ]
    }
   ],
   "source": [
    "%%bash\n",
    "curl -k \\\n",
    "    --header \"X-Vault-Token: $VAULT_TOKEN\" \\\n",
    "    --request GET \\\n",
    "    --silent \\\n",
    "    $VAULT_ADDR/v1/ldap/creds/dynamic \\\n",
    "    | jq . -r"
   ]
  },
  {
   "attachments": {
    "image.png": {
     "image/png": "[encoded data removed]"
    }
   },
   "cell_type": "markdown",
   "id": "67dc2943",
   "metadata": {},
   "source": [
    "## Lista de cuentas dinámicas creadas\n",
    "\n",
    "![image.png](attachment:image.png)"
   ]
  },
  {
   "cell_type": "code",
   "execution_count": 19,
   "id": "3269dee9",
   "metadata": {},
   "outputs": [
    {
     "name": "stdout",
     "output_type": "stream",
     "text": [
      "Keys\n",
      "----\n",
      "Npq5DFdfmo62xqDFLZBoAFyp\n",
      "OrdIRwfUjyLdguTJ9kKyGj2c\n",
      "YUVVl6XsTWmYqoqmv6jYdgZz\n"
     ]
    }
   ],
   "source": [
    "%%bash\n",
    "## Check leases in Vault\n",
    "vault list sys/leases/lookup/ldap/creds/dynamic"
   ]
  },
  {
   "cell_type": "code",
   "execution_count": 20,
   "id": "743d5083",
   "metadata": {},
   "outputs": [
    {
     "name": "stdout",
     "output_type": "stream",
     "text": [
      "All revocation operations queued successfully!\n",
      "Keys\n",
      "----\n",
      "OrdIRwfUjyLdguTJ9kKyGj2c\n",
      "YUVVl6XsTWmYqoqmv6jYdgZz\n"
     ]
    }
   ],
   "source": [
    "%%bash\n",
    "## Revoke individual token\n",
    "vault lease revoke ldap/creds/dynamic/\\\n",
    "$(vault list -format=json sys/leases/lookup/ldap/creds/dynamic | jq -r .[0])\n",
    "vault list sys/leases/lookup/ldap/creds/dynamic"
   ]
  },
  {
   "cell_type": "code",
   "execution_count": 21,
   "id": "ba948abf",
   "metadata": {},
   "outputs": [
    {
     "name": "stdout",
     "output_type": "stream",
     "text": [
      "All revocation operations queued successfully!\n"
     ]
    }
   ],
   "source": [
    "%%bash\n",
    "## Elimino todas las cuentas creadas\n",
    "vault lease revoke -prefix ldap/creds/dynamic"
   ]
  }
 ],
 "metadata": {
  "kernelspec": {
   "display_name": "Python 3 (ipykernel)",
   "language": "python",
   "name": "python3"
  },
  "language_info": {
   "codemirror_mode": {
    "name": "ipython",
    "version": 3
   },
   "file_extension": ".py",
   "mimetype": "text/x-python",
   "name": "python",
   "nbconvert_exporter": "python",
   "pygments_lexer": "ipython3",
   "version": "3.9.6"
  }
 },
 "nbformat": 4,
 "nbformat_minor": 5
}
