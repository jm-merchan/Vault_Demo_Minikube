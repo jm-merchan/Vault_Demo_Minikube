{
 "cells": [
  {
   "attachments": {},
   "cell_type": "markdown",
   "id": "71e76c18",
   "metadata": {},
   "source": [
    "# [AWS Secret Engine](https://developer.hashicorp.com/vault/docs/secrets/aws)"
   ]
  },
  {
   "cell_type": "raw",
   "id": "09d0338a",
   "metadata": {},
   "source": [
    "### Create environment - Run in terminal\n",
    "export WORKDIR=/tmp/vault\n",
    "export VAULT_ADDR=https://127.0.0.1:8200\n",
    "export VAULT_TOKEN=$(cat $WORKDIR/cluster-keys.json | jq -r \".root_token\")\n",
    "export VAULT_CACERT=/tmp/vault/vault.ca\n",
    "doormat login -f && eval $(doormat aws export --account aws_jose.merchan_test)\n",
    "export AWS_DEFAULT_REGION=eu-west-1\n",
    "git clone https://github.com/hashicorp/hc-sec-demos.git\n",
    "sleep 5\n",
    "cd hc-sec-demos/demos/vault/aws_secrets_engine\n",
    "terraform init\n",
    "terraform apply -auto-approve"
   ]
  },
  {
   "attachments": {
    "image.png": {
     "image/png": "[encoded data removed]"
    }
   },
   "cell_type": "markdown",
   "id": "d4d59a75",
   "metadata": {},
   "source": [
    "## Permissions granted\n",
    "\n",
    "![image.png](attachment:image.png)\n"
   ]
  },
  {
   "cell_type": "code",
   "execution_count": null,
   "id": "f00a87dd",
   "metadata": {},
   "outputs": [],
   "source": [
    "%env  WORKDIR=/tmp/vault"
   ]
  },
  {
   "cell_type": "code",
   "execution_count": null,
   "id": "c217567b",
   "metadata": {},
   "outputs": [],
   "source": [
    "%%bash\n",
    "cat ${WORKDIR}/cluster-keys.json | jq -r \".root_token\""
   ]
  },
  {
   "cell_type": "code",
   "execution_count": null,
   "id": "9b9362c8",
   "metadata": {},
   "outputs": [],
   "source": [
    "%env VAULT_ADDR=https://127.0.0.1:8200\n",
    "%env VAULT_TOKEN=hvs.0buy0tW2QcQARwJGQsEyg8Ad\n",
    "%env VAULT_CACERT=/tmp/vault/vault.ca"
   ]
  },
  {
   "cell_type": "code",
   "execution_count": null,
   "id": "566bfdeb",
   "metadata": {},
   "outputs": [],
   "source": [
    "%%bash\n",
    "vault write aws/config/lease lease=30m lease_max=30m"
   ]
  },
  {
   "attachments": {},
   "cell_type": "markdown",
   "id": "36fd9dc1",
   "metadata": {},
   "source": [
    "## Test Lease Request"
   ]
  },
  {
   "cell_type": "code",
   "execution_count": null,
   "id": "44e51bd7",
   "metadata": {},
   "outputs": [],
   "source": [
    "%%bash\n",
    "vault read aws/creds/vault-demo-iam-user\n",
    "echo \"-----\"\n",
    "vault read aws/creds/vault-demo-federation-token\n",
    "echo \"-----\"\n",
    "vault read aws/creds/vault-demo-assumed-role"
   ]
  },
  {
   "attachments": {},
   "cell_type": "markdown",
   "id": "44b3401a",
   "metadata": {},
   "source": [
    "## Rotate Root credentials"
   ]
  },
  {
   "cell_type": "code",
   "execution_count": null,
   "id": "b69c170b",
   "metadata": {},
   "outputs": [],
   "source": [
    "%%bash\n",
    "vault write -f aws/config/rotate-root"
   ]
  },
  {
   "attachments": {},
   "cell_type": "markdown",
   "id": "59becc21",
   "metadata": {},
   "source": [
    "## Demo Part"
   ]
  },
  {
   "cell_type": "code",
   "execution_count": null,
   "id": "2424890d",
   "metadata": {},
   "outputs": [],
   "source": [
    "%%bash\n",
    "## Requesting using CLI\n",
    "sleep 10\n",
    "vault read aws/creds/vault-demo-iam-user"
   ]
  },
  {
   "cell_type": "code",
   "execution_count": null,
   "id": "3a4ae566",
   "metadata": {},
   "outputs": [],
   "source": [
    "%%bash\n",
    "# Using CURL\n",
    "\n",
    "curl -k --header \"X-Vault-Token: $VAULT_TOKEN\" \\\n",
    "    --silent --request GET \\\n",
    "    $VAULT_ADDR/v1/aws/creds/vault-demo-iam-user | jq .data -r\n",
    "    \n",
    "echo \"---------New request == different credentials ----------\"\n",
    "\n",
    "curl -k --header \"X-Vault-Token: $VAULT_TOKEN\" \\\n",
    "    --silent --request GET \\\n",
    "    $VAULT_ADDR/v1/aws/creds/vault-demo-iam-user | jq . -r > $WORKDIR/temp_aws_creds.json\n",
    "\n",
    "echo \"access_key: $(cat $WORKDIR/temp_aws_creds.json | jq -r .data.access_key)\"\n",
    "echo \"secret_key: $(cat $WORKDIR/temp_aws_creds.json | jq -r .data.secret_key)\""
   ]
  },
  {
   "cell_type": "raw",
   "id": "0956e7b5",
   "metadata": {},
   "source": [
    "## Check the number of IAM users in terminal, there should be one, plus the one created\n",
    "aws iam list-users"
   ]
  },
  {
   "cell_type": "code",
   "execution_count": null,
   "id": "0d2d96fa",
   "metadata": {},
   "outputs": [],
   "source": [
    "%%bash\n",
    "## Active leases for a given role\n",
    "vault list sys/leases/lookup/aws/creds/vault-demo-iam-user"
   ]
  },
  {
   "cell_type": "code",
   "execution_count": null,
   "id": "393beeb6",
   "metadata": {},
   "outputs": [],
   "source": [
    "%%bash\n",
    "export AWS_ACCESS_KEY_ID=$(cat $WORKDIR/temp_aws_creds.json | jq -r .data.access_key)\n",
    "export AWS_SECRET_ACCESS_KEY=$(cat $WORKDIR/temp_aws_creds.json | jq -r .data.secret_key)\n",
    "aws ec2 describe-regions --region us-east-1"
   ]
  },
  {
   "cell_type": "raw",
   "id": "b36bfa00",
   "metadata": {},
   "source": [
    "# Show in terminal permissions for \n",
    "aws ec2 describe-addresses "
   ]
  },
  {
   "cell_type": "code",
   "execution_count": null,
   "id": "bc7ebc68",
   "metadata": {},
   "outputs": [],
   "source": [
    "%%bash\n",
    "#This will fail as that permissions has not been granted\n",
    "export AWS_ACCESS_KEY_ID=$(cat $WORKDIR/temp_aws_creds.json | jq -r .data.access_key)\n",
    "export AWS_SECRET_ACCESS_KEY=$(cat $WORKDIR/temp_aws_creds.json | jq -r .data.secret_key)\n",
    "aws ec2 describe-addresses  --region us-east-1"
   ]
  },
  {
   "attachments": {},
   "cell_type": "markdown",
   "id": "1cb15a2d",
   "metadata": {},
   "source": [
    "## Revoke leases"
   ]
  },
  {
   "cell_type": "code",
   "execution_count": null,
   "id": "4e775cbb",
   "metadata": {},
   "outputs": [],
   "source": [
    "%%bash\n",
    "## Active leases for a given role\n",
    "vault list -format=json sys/leases/lookup/aws/creds/vault-demo-iam-user | jq -r .[]"
   ]
  },
  {
   "cell_type": "code",
   "execution_count": null,
   "id": "79e1cb58",
   "metadata": {},
   "outputs": [],
   "source": [
    "%%bash\n",
    "## Revoke a single lease, in this case the first one from the list\n",
    "vault lease revoke aws/creds/vault-demo-iam-user/\\\n",
    "$(vault list -format=json sys/leases/lookup/aws/creds/vault-demo-iam-user | jq -r .[0])"
   ]
  },
  {
   "cell_type": "code",
   "execution_count": null,
   "id": "9026f291",
   "metadata": {},
   "outputs": [],
   "source": [
    "%%bash\n",
    "## To obtain details for one of the leases I can use the lookup endpoint. \n",
    "vault lease lookup aws/creds/vault-demo-iam-user/\\\n",
    "$(vault list -format=json sys/leases/lookup/aws/creds/vault-demo-iam-user | jq -r .[0])"
   ]
  },
  {
   "cell_type": "code",
   "execution_count": null,
   "id": "1f00a0c8",
   "metadata": {},
   "outputs": [],
   "source": [
    "%%bash\n",
    "## Active leases for a given role\n",
    "vault list -format=json sys/leases/lookup/aws/creds/vault-demo-iam-user | jq -r .[]"
   ]
  },
  {
   "cell_type": "code",
   "execution_count": null,
   "id": "b2142be3",
   "metadata": {},
   "outputs": [],
   "source": [
    "%%bash\n",
    "## Revoke all leases for a given role\n",
    "vault lease revoke -prefix aws/creds/vault-demo-iam-user"
   ]
  },
  {
   "cell_type": "code",
   "execution_count": null,
   "id": "4d437acb",
   "metadata": {},
   "outputs": [],
   "source": [
    "%%bash\n",
    "## Active leases for a given role (takes a couple of seconds to clean)\n",
    "sleep 3\n",
    "vault list -format=json sys/leases/lookup/aws/creds/vault-demo-iam-user | jq -r .[]"
   ]
  },
  {
   "cell_type": "raw",
   "id": "5245ddd5",
   "metadata": {},
   "source": [
    "## Check the number of IAM users in terminal, there should be one, plus the one created\n",
    "aws iam list-users"
   ]
  },
  {
   "cell_type": "raw",
   "id": "f401304a",
   "metadata": {},
   "source": [
    "### Run in terminal\n",
    "terraform destroy --auto-approve\n",
    "cd ../../../..\n",
    "rm -rf hc-sec-demos\n",
    "cloud-nuke aws --resource-type ec2 --resource-type iam --region us-east-1"
   ]
  },
  {
   "attachments": {},
   "cell_type": "markdown",
   "id": "2d866e44",
   "metadata": {},
   "source": [
    "## Unrelated OIDC config for GCP"
   ]
  },
  {
   "cell_type": "raw",
   "id": "ae184e24",
   "metadata": {},
   "source": [
    "%%bash \n",
    "vault auth disable oidc\n",
    "vault auth enable oidc\n",
    "vault write auth/oidc/config -<<EOF\n",
    "{\n",
    "    \"oidc_discovery_url\": \"https://accounts.google.com\",\n",
    "    \"oidc_client_id\": \"235204192395-f655213mmoi3kq1f20mpff5hntjhe63e.apps.googleusercontent.com\",\n",
    "    \"oidc_client_secret\": \"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\",\n",
    "    \"default_role\": \"demo\"\n",
    "}\n",
    "EOF\n",
    "\n"
   ]
  },
  {
   "cell_type": "raw",
   "id": "34bb1406",
   "metadata": {},
   "source": [
    "%%bash \n",
    "vault write auth/oidc/role/ops \\\n",
    "    allowed_redirect_uris=\"https://localhost:8200/ui/vault/auth/oidc/oidc/callback,http://localhost:8250/oidc/callback\" \\\n",
    "    user_claim=\"sub\" \\\n",
    "    #groups_claim=\"groups\" \\\n",
    "    token_policies=\"devk8s\" policies=\"devk8s\"\n",
    "    groups_claim=\"\"\n",
    "\n"
   ]
  }
 ],
 "metadata": {
  "kernelspec": {
   "display_name": "Python 3 (ipykernel)",
   "language": "python",
   "name": "python3"
  },
  "language_info": {
   "codemirror_mode": {
    "name": "ipython",
    "version": 3
   },
   "file_extension": ".py",
   "mimetype": "text/x-python",
   "name": "python",
   "nbconvert_exporter": "python",
   "pygments_lexer": "ipython3",
   "version": "3.9.6"
  }
 },
 "nbformat": 4,
 "nbformat_minor": 5
}
