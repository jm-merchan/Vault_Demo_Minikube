{
 "cells": [
  {
   "cell_type": "code",
   "execution_count": null,
   "metadata": {},
   "outputs": [],
   "source": [
    "%env WORKDIR=/tmp/vault\n",
    "%env VAULT_K8S_NAMESPACE=vault\n",
    "%env VAULT_HELM_RELEASE_NAME=vault\n",
    "%env VAULT_SERVICE_NAME=vault-internal \n",
    "%env K8S_CLUSTER_NAME=cluster.local "
   ]
  },
  {
   "cell_type": "code",
   "execution_count": null,
   "metadata": {},
   "outputs": [],
   "source": [
    "%%bash\n",
    "cat ${WORKDIR}/cluster-keys.json | jq -r \".root_token\""
   ]
  },
  {
   "cell_type": "raw",
   "metadata": {},
   "source": [
    "##In a terminal\n",
    "# Enable Kubernetes Authentication\n",
    "\n",
    "kubectl exec -n vault vault-0 -i -t -- /bin/sh\n",
    "---\n",
    "vault login <root_token>\n",
    "vault auth enable kubernetes\n",
    "\n",
    "vault write auth/kubernetes/config \\\n",
    "    kubernetes_host=https://$KUBERNETES_SERVICE_HOST:$KUBERNETES_SERVICE_PORT\n",
    "\n",
    "vault write auth/kubernetes/role/example \\\n",
    "     bound_service_account_names=default \\\n",
    "     bound_service_account_namespaces=vault \\\n",
    "     policies=ops \\\n",
    "     ttl=24h"
   ]
  },
  {
   "cell_type": "code",
   "execution_count": null,
   "metadata": {},
   "outputs": [],
   "source": [
    "%%bash\n",
    "# https://external-secrets.io/v0.8.1/introduction/getting-started/\n",
    "helm repo add external-secrets https://charts.external-secrets.io\n",
    "\n",
    "helm install external-secrets \\\n",
    "   external-secrets/external-secrets \\\n",
    "    -n external-secrets \\\n",
    "    --create-namespace \\\n",
    "    --set installCRDs=true"
   ]
  },
  {
   "cell_type": "code",
   "execution_count": null,
   "metadata": {},
   "outputs": [],
   "source": [
    "%%bash\n",
    "helm ls -n external-secrets\n",
    "kubectl get all -n external-secrets"
   ]
  },
  {
   "attachments": {},
   "cell_type": "markdown",
   "metadata": {},
   "source": [
    "### Autenticando usando token authentication (https://external-secrets.io/v0.5.2/provider-hashicorp-vault/#authentication)"
   ]
  },
  {
   "cell_type": "code",
   "execution_count": null,
   "metadata": {},
   "outputs": [],
   "source": [
    "%%bash\n",
    "# Integrating using token authentication.\n",
    "# No need to enable token auth - enabled by default\n",
    "kubectl create secret generic vault-token --from-literal=\"token=hvs.0buy0tW2QcQARwJGQsEyg8Ad\" -n vault\n",
    "\n",
    "cat > ext_so_crd.yaml <<EOF\n",
    "---\n",
    "apiVersion: external-secrets.io/v1beta1\n",
    "kind: SecretStore\n",
    "metadata:\n",
    "  name: vault-backendtoken\n",
    "  namespace: vault\n",
    "spec:\n",
    "  provider:\n",
    "    vault:\n",
    "      server: \"https://vault.vault:8200\"\n",
    "      path: \"secret\"\n",
    "      version: \"v2\"\n",
    "      caProvider:\n",
    "        # Can be Secret or ConfigMap\n",
    "        type: \"Secret\"\n",
    "        name: \"vault-ha-tls\"\n",
    "        key: \"vault.ca\"\n",
    "      auth:\n",
    "        # points to a secret that contains a vault token\n",
    "        # https://www.vaultproject.io/docs/auth/token\n",
    "        tokenSecretRef:\n",
    "          name: \"vault-token\"\n",
    "          key: \"token\"\n",
    "\n",
    "EOF\n",
    "kubectl apply -f ext_so_crd.yaml\n",
    "kubectl get SecretStore -n vault"
   ]
  },
  {
   "attachments": {},
   "cell_type": "markdown",
   "metadata": {},
   "source": [
    "### Usando Kubernetes Authentication"
   ]
  },
  {
   "cell_type": "code",
   "execution_count": null,
   "metadata": {},
   "outputs": [],
   "source": [
    "%%bash\n",
    "\n",
    "## This time using Kubernetes Authentication\n",
    "cat > ext_so_crd2.yaml <<EOF\n",
    "---\n",
    "apiVersion: external-secrets.io/v1beta1\n",
    "kind: SecretStore\n",
    "metadata:\n",
    "  name: vault-backendk8s\n",
    "  namespace: vault\n",
    "spec:\n",
    "  provider:\n",
    "    vault:\n",
    "      server: \"https://vault.vault:8200\"\n",
    "      path: \"secret\"\n",
    "      version: \"v2\"\n",
    "      caProvider:\n",
    "        # Can be Secret or ConfigMap\n",
    "        type: \"Secret\"\n",
    "        name: \"vault-ha-tls\"\n",
    "        key: \"vault.ca\"\n",
    "      auth:\n",
    "        kubernetes:\n",
    "          mountPath: \"kubernetes\"\n",
    "          role: \"example\"\n",
    "          serviceAccountRef:\n",
    "            name: \"default\"\n",
    "\n",
    "EOF\n",
    "kubectl apply -f ext_so_crd2.yaml\n",
    "\n",
    "kubectl get SecretStore -n vault"
   ]
  },
  {
   "attachments": {},
   "cell_type": "markdown",
   "metadata": {},
   "source": [
    "### Sincronizando secretos"
   ]
  },
  {
   "cell_type": "code",
   "execution_count": null,
   "metadata": {},
   "outputs": [],
   "source": [
    "%%bash\n",
    "\n",
    "cat > ext_secret1_crd.yaml <<EOF\n",
    "---\n",
    "apiVersion: external-secrets.io/v1beta1\n",
    "kind: ExternalSecret\n",
    "metadata:\n",
    "  name: vault-exampletoken\n",
    "  namespace: vault\n",
    "spec:\n",
    "  refreshInterval: \"15s\"\n",
    "  secretStoreRef:\n",
    "    name: vault-backendtoken #Aquí es donde definimos que secretStore se usa\n",
    "    kind: SecretStore\n",
    "  target:\n",
    "    name: example-synctoken\n",
    "  data:\n",
    "  - secretKey: contact_email\n",
    "    remoteRef:\n",
    "      key: secret/ops/acme\n",
    "      property: contact_email\n",
    "\n",
    "EOF\n",
    "kubectl apply -f ext_secret1_crd.yaml\n",
    "kubectl describe ExternalSecret vault-exampletoken -n vault\n",
    "sleep 3\n",
    "echo '**************************'\n",
    "kubectl get secret example-synctoken -n vault -o yaml"
   ]
  },
  {
   "cell_type": "code",
   "execution_count": null,
   "metadata": {},
   "outputs": [],
   "source": [
    "%%bash\n",
    "\n",
    "cat > ext_secret2_crd.yaml <<EOF\n",
    "---\n",
    "apiVersion: external-secrets.io/v1beta1\n",
    "kind: ExternalSecret\n",
    "metadata:\n",
    "  name: vault-examplek8s\n",
    "  namespace: vault\n",
    "spec:\n",
    "  refreshInterval: \"15s\"\n",
    "  secretStoreRef:\n",
    "    name: vault-backendk8s #Aquí es donde definimos que secretStore se usa\n",
    "    kind: SecretStore\n",
    "  target:\n",
    "    name: example-synck8s\n",
    "  data:\n",
    "  - secretKey: contact_email\n",
    "    remoteRef:\n",
    "      key: secret/ops/acme\n",
    "      property: contact_email\n",
    "\n",
    "EOF\n",
    "kubectl apply -f ext_secret2_crd.yaml\n",
    "kubectl describe ExternalSecret vault-examplek8s -n vault\n",
    "sleep 3\n",
    "echo \"**************************\"\n",
    "kubectl get secret example-synck8s -n vault -o yaml"
   ]
  },
  {
   "attachments": {},
   "cell_type": "markdown",
   "metadata": {},
   "source": [
    "## Consumiendo el secreto desde un POD"
   ]
  },
  {
   "cell_type": "code",
   "execution_count": null,
   "metadata": {},
   "outputs": [],
   "source": [
    "%%bash\n",
    "# Consuming secret using K8S Authentication\n",
    "cat > mypod2_test.yaml <<EOF\n",
    "apiVersion: v1\n",
    "kind: Pod\n",
    "metadata:\n",
    "  name: mypod2\n",
    "  namespace: vault\n",
    "  # Using a different service account\n",
    "spec:\n",
    "  containers:\n",
    "  - name: mypod\n",
    "    image: redis\n",
    "    volumeMounts:\n",
    "    - name: foo\n",
    "      mountPath: \"/etc/foo\"\n",
    "      readOnly: true\n",
    "  volumes:\n",
    "  - name: foo\n",
    "    secret:\n",
    "      secretName: example-synck8s \n",
    "      optional: true\n",
    "EOF\n",
    "\n",
    "kubectl apply -f mypod2_test.yaml\n",
    "sleep 10"
   ]
  },
  {
   "cell_type": "code",
   "execution_count": null,
   "metadata": {},
   "outputs": [],
   "source": [
    "%%bash\n",
    "kubectl exec mypod2 -n vault -- ls /etc/foo/\n",
    "kubectl exec mypod2 -n vault -- cat /etc/foo/contact_email"
   ]
  },
  {
   "attachments": {},
   "cell_type": "markdown",
   "metadata": {},
   "source": [
    "## Ahora usando Vault Secret Operator"
   ]
  },
  {
   "cell_type": "code",
   "execution_count": null,
   "metadata": {},
   "outputs": [],
   "source": [
    "%%bash\n",
    "cat ${WORKDIR}/cluster-keys.json | jq -r \".root_token\""
   ]
  },
  {
   "cell_type": "code",
   "execution_count": null,
   "metadata": {},
   "outputs": [],
   "source": [
    "%env VAULT_ADDR=https://127.0.0.1:8200\n",
    "%env VAULT_TOKEN=hvs.0buy0tW2QcQARwJGQsEyg8Ad\n",
    "%env VAULT_CACERT=/tmp/vault/vault.ca"
   ]
  },
  {
   "cell_type": "code",
   "execution_count": null,
   "metadata": {},
   "outputs": [],
   "source": [
    "%%bash\n",
    "# Role associated to default service account in the app namespace\n",
    "vault write auth/kubernetes/role/role1 \\\n",
    "    bound_service_account_names=default \\\n",
    "    bound_service_account_namespaces=vault \\\n",
    "    policies=devk8s \\\n",
    "    ttl=24h\n"
   ]
  },
  {
   "cell_type": "code",
   "execution_count": null,
   "metadata": {},
   "outputs": [],
   "source": [
    "%%bash\n",
    "# Role associated to default service account in the app namespace\n",
    "vault write auth/kubernetes/role/role2 \\\n",
    "    bound_service_account_names=default \\\n",
    "    bound_service_account_namespaces=default \\\n",
    "    policies=devk8s \\\n",
    "    ttl=24h"
   ]
  },
  {
   "cell_type": "code",
   "execution_count": null,
   "metadata": {},
   "outputs": [],
   "source": [
    "%%bash\n",
    "vault policy write devk8s - <<EOF\n",
    "path \"kvv2/*\" {\n",
    "  capabilities = [\"read\"]\n",
    "}\n",
    "EOF\n"
   ]
  },
  {
   "cell_type": "code",
   "execution_count": null,
   "metadata": {},
   "outputs": [],
   "source": [
    "%%bash\n",
    "vault secrets enable -path=kvv2 kv-v2"
   ]
  },
  {
   "cell_type": "code",
   "execution_count": null,
   "metadata": {},
   "outputs": [],
   "source": [
    "%%bash\n",
    "vault kv put kvv2/webapp/config username=\"static-user\" password=\"static-password\""
   ]
  },
  {
   "attachments": {},
   "cell_type": "markdown",
   "metadata": {},
   "source": [
    "### Instalando el VSO usando helm"
   ]
  },
  {
   "cell_type": "code",
   "execution_count": null,
   "metadata": {},
   "outputs": [],
   "source": [
    "%%bash\n",
    "helm search repo hashicorp/vault-secrets-operator --devel\n",
    "helm install --namespace $VAULT_K8S_NAMESPACE vault-secrets-operator hashicorp/vault-secrets-operator --version 0.1.0-beta\n"
   ]
  },
  {
   "cell_type": "code",
   "execution_count": null,
   "metadata": {},
   "outputs": [],
   "source": [
    "%%bash\n",
    "## VaultConnection Custom Resource\n",
    "cat > vso_crd.yaml <<EOF\n",
    "---\n",
    "apiVersion: secrets.hashicorp.com/v1alpha1\n",
    "kind: VaultConnection\n",
    "metadata:\n",
    "  namespace: vault\n",
    "  name: example\n",
    "spec:\n",
    "  # required configuration\n",
    "  # address to the Vault server.\n",
    "  address: https://vault.vault.svc.cluster.local:8200\n",
    "\n",
    "  # optional configuration\n",
    "  # HTTP headers to be included in all Vault requests.\n",
    "  # headers: []\n",
    "  # TLS server name to use as the SNI host for TLS connections.\n",
    "  # tlsServerName: \"\"\n",
    "  # skip TLS verification for TLS connections to Vault.\n",
    "  skipTLSVerify: true\n",
    "  # the trusted PEM encoded CA certificate chain stored in a Kubernetes Secret\n",
    "  # caCertSecretRef: \"\"\n",
    "\n",
    "EOF\n",
    "kubectl apply -f vso_crd.yaml\n",
    "echo '---'\n",
    "kubectl describe VaultConnection example -n vault\n"
   ]
  },
  {
   "cell_type": "code",
   "execution_count": null,
   "metadata": {},
   "outputs": [],
   "source": [
    "%%bash\n",
    "## Otro VaultConnection para otro namespace\n",
    "## VaultConnection Custom Resource\n",
    "cat > vso_crd_2.yaml <<EOF\n",
    "---\n",
    "apiVersion: secrets.hashicorp.com/v1alpha1\n",
    "kind: VaultConnection\n",
    "metadata:\n",
    "  namespace: default\n",
    "  name: example\n",
    "spec:\n",
    "  # required configuration\n",
    "  # address to the Vault server.\n",
    "  address: https://vault.vault.svc.cluster.local:8200\n",
    "\n",
    "  # optional configuration\n",
    "  # HTTP headers to be included in all Vault requests.\n",
    "  # headers: []\n",
    "  # TLS server name to use as the SNI host for TLS connections.\n",
    "  # tlsServerName: \"\"\n",
    "  # skip TLS verification for TLS connections to Vault.\n",
    "  skipTLSVerify: true\n",
    "  # the trusted PEM encoded CA certificate chain stored in a Kubernetes Secret\n",
    "  # caCertSecretRef: \"\"\n",
    "\n",
    "EOF\n",
    "kubectl apply -f vso_crd_2.yaml\n",
    "echo '---'\n",
    "kubectl describe VaultConnection example"
   ]
  },
  {
   "cell_type": "code",
   "execution_count": null,
   "metadata": {},
   "outputs": [],
   "source": [
    "%%bash\n",
    "cat > vaultauth_crd.yaml <<EOF\n",
    "---\n",
    "apiVersion: secrets.hashicorp.com/v1alpha1\n",
    "kind: VaultAuth\n",
    "metadata:\n",
    "  namespace: vault\n",
    "  name: example\n",
    "spec:\n",
    "  # required configuration\n",
    "  # VaultConnectionRef of the corresponding VaultConnection CustomResource.\n",
    "  # If no value is specified the Operator will default to the `default` VaultConnection,\n",
    "  # configured in its own Kubernetes namespace.\n",
    "  vaultConnectionRef: example\n",
    "  # Method to use when authenticating to Vault.\n",
    "  method: kubernetes\n",
    "  # Mount to use when authenticating to auth method.\n",
    "  mount: kubernetes\n",
    "  # Kubernetes specific auth configuration, requires that the Method be set to kubernetes.\n",
    "  kubernetes:\n",
    "    # role to use when authenticating to Vault\n",
    "    role: role1\n",
    "    # ServiceAccount to use when authenticating to Vault\n",
    "    # it is recommended to always provide a unique serviceAccount per Pod/application\n",
    "    serviceAccount: default\n",
    "\n",
    "  # optional configuration\n",
    "  # Vault namespace where the auth backend is mounted (requires Vault Enterprise)\n",
    "  # namespace: \"\"\n",
    "  # Params to use when authenticating to Vault\n",
    "  # params: []\n",
    "  # HTTP headers to be included in all Vault authentication requests.\n",
    "  # headers: []\n",
    "EOF\n",
    "kubectl apply -f vaultauth_crd.yaml\n",
    "echo '---'\n",
    "kubectl describe VaultAuth example -n vault"
   ]
  },
  {
   "cell_type": "code",
   "execution_count": null,
   "metadata": {},
   "outputs": [],
   "source": [
    "%%bash\n",
    "cat > vaultauth_crd2.yaml <<EOF\n",
    "---\n",
    "apiVersion: secrets.hashicorp.com/v1alpha1\n",
    "kind: VaultAuth\n",
    "metadata:\n",
    "  namespace: default\n",
    "  name: example2\n",
    "spec:\n",
    "  # required configuration\n",
    "  # VaultConnectionRef of the corresponding VaultConnection CustomResource.\n",
    "  # If no value is specified the Operator will default to the `default` VaultConnection,\n",
    "  # configured in its own Kubernetes namespace.\n",
    "  vaultConnectionRef: example\n",
    "  # Method to use when authenticating to Vault.\n",
    "  method: kubernetes\n",
    "  # Mount to use when authenticating to auth method.\n",
    "  mount: kubernetes\n",
    "  # Kubernetes specific auth configuration, requires that the Method be set to kubernetes.\n",
    "  kubernetes:\n",
    "    # role to use when authenticating to Vault\n",
    "    role: role2\n",
    "    # ServiceAccount to use when authenticating to Vault\n",
    "    # it is recommended to always provide a unique serviceAccount per Pod/application\n",
    "    serviceAccount: default\n",
    "\n",
    "  # optional configuration\n",
    "  # Vault namespace where the auth backend is mounted (requires Vault Enterprise)\n",
    "  # namespace: \"\"\n",
    "  # Params to use when authenticating to Vault\n",
    "  # params: []\n",
    "  # HTTP headers to be included in all Vault authentication requests.\n",
    "  # headers: []\n",
    "EOF\n",
    "kubectl apply -f vaultauth_crd2.yaml\n",
    "echo '---'\n",
    "kubectl describe VaultAuth example"
   ]
  },
  {
   "attachments": {},
   "cell_type": "markdown",
   "metadata": {},
   "source": [
    "## CRD Static Secret"
   ]
  },
  {
   "cell_type": "code",
   "execution_count": null,
   "metadata": {},
   "outputs": [],
   "source": [
    "%%bash\n",
    "## Support KVv1 and KVv2\n",
    "cat > static_secret.yaml <<EOF\n",
    "---\n",
    "apiVersion: secrets.hashicorp.com/v1alpha1\n",
    "kind: VaultStaticSecret\n",
    "metadata:\n",
    "  namespace: vault\n",
    "  name: example\n",
    "spec:\n",
    "  vaultAuthRef: example\n",
    "  mount: kvv2\n",
    "  type: kv-v2\n",
    "  name: webapp/config\n",
    "  refreshAfter: 60s\n",
    "  destination:\n",
    "    create: true\n",
    "    name: static-secret1\n",
    "EOF\n",
    "kubectl apply -f static_secret.yaml\n",
    "echo '---'\n",
    "kubectl describe VaultStaticSecret example -n vault\n",
    "echo '---'\n",
    "sleep 5\n",
    "kubectl get secret static-secret1 -n vault -o yaml\n"
   ]
  },
  {
   "cell_type": "code",
   "execution_count": null,
   "metadata": {},
   "outputs": [],
   "source": [
    "%%bash\n",
    "## Support KVv1 and KVv2\n",
    "cat > static_secret.yaml <<EOF\n",
    "---\n",
    "apiVersion: secrets.hashicorp.com/v1alpha1\n",
    "kind: VaultStaticSecret\n",
    "metadata:\n",
    "  namespace: default\n",
    "  name: example\n",
    "spec:\n",
    "  vaultAuthRef: example2\n",
    "  mount: kvv2\n",
    "  type: kv-v2\n",
    "  name: webapp/config\n",
    "  refreshAfter: 60s\n",
    "  destination:\n",
    "    create: true\n",
    "    name: static-secret1\n",
    "EOF\n",
    "kubectl apply -f static_secret.yaml\n",
    "echo '---'\n",
    "kubectl describe VaultStaticSecret example\n",
    "echo '---'\n",
    "sleep 5\n",
    "kubectl get secret static-secret1 -o yaml"
   ]
  },
  {
   "cell_type": "code",
   "execution_count": null,
   "metadata": {},
   "outputs": [],
   "source": [
    "%%bash\n",
    "kubectl get secrets -n vault"
   ]
  },
  {
   "cell_type": "code",
   "execution_count": null,
   "metadata": {},
   "outputs": [],
   "source": [
    "%%bash\n",
    "cat > mypod.yaml <<EOF\n",
    "apiVersion: v1\n",
    "kind: Pod\n",
    "metadata:\n",
    "  name: mypod\n",
    "  namespace: vault\n",
    "spec:\n",
    "  containers:\n",
    "  - name: mypod\n",
    "    image: nginx\n",
    "    volumeMounts:\n",
    "    - name: foo\n",
    "      mountPath: \"/etc/foo\"\n",
    "      readOnly: true\n",
    "  volumes:\n",
    "  - name: foo\n",
    "    secret:\n",
    "      secretName: static-secret1\n",
    "      optional: true\n",
    "EOF\n",
    "kubectl apply -f mypod.yaml\n",
    "sleep 10\n",
    "\n",
    "# https://developer.hashicorp.com/vault/tutorials/kubernetes/vault-secrets-operator"
   ]
  },
  {
   "cell_type": "code",
   "execution_count": null,
   "metadata": {},
   "outputs": [],
   "source": [
    "%%bash \n",
    "kubectl exec mypod -n vault -- cat /etc/foo/username\n",
    "echo \"\"\n",
    "echo \"------\"\n",
    "kubectl exec mypod -n vault -- cat /etc/foo/password"
   ]
  },
  {
   "attachments": {},
   "cell_type": "markdown",
   "metadata": {},
   "source": [
    "### mostrando que la serviceaccount del Pod no influye (el acceso viene impersonado por Vault-Auth CRD)"
   ]
  },
  {
   "cell_type": "code",
   "execution_count": null,
   "metadata": {},
   "outputs": [],
   "source": [
    "%%bash\n",
    "cat > mypod3.yaml <<EOF\n",
    "apiVersion: v1\n",
    "kind: Pod\n",
    "metadata:\n",
    "  name: mypod3\n",
    "  namespace: vault\n",
    "  # Using a different service account\n",
    "spec:\n",
    "  serviceAccountName: vault\n",
    "  containers:\n",
    "  - name: mypod\n",
    "    image: redis\n",
    "    volumeMounts:\n",
    "    - name: foo\n",
    "      mountPath: \"/etc/foo\"\n",
    "      readOnly: true\n",
    "  volumes:\n",
    "  - name: foo\n",
    "    secret:\n",
    "      secretName: static-secret1\n",
    "      optional: true\n",
    "EOF\n",
    "kubectl apply -f mypod3.yaml"
   ]
  },
  {
   "cell_type": "code",
   "execution_count": null,
   "metadata": {},
   "outputs": [],
   "source": [
    "%%bash \n",
    "sleep 10 \n",
    "kubectl exec   mypod3 -n vault -- cat /etc/foo/username\n",
    "echo \"\"\n",
    "echo \"------\"\n",
    "kubectl exec mypod3 -n vault -- cat /etc/foo/password"
   ]
  },
  {
   "attachments": {},
   "cell_type": "markdown",
   "metadata": {},
   "source": [
    "## ¿Cómo funciona la autenticación de Kubernetes?"
   ]
  },
  {
   "cell_type": "raw",
   "metadata": {},
   "source": [
    "## In a Terminal\n",
    "# show how K8S authentication works\n",
    "kubectl exec mypod -n vault -i -t -- /bin/sh\n",
    "--\n",
    "apt update\n",
    "apt install -y jq\n",
    "\n",
    "# Token location\n",
    "KUBE_TOKEN=$(cat /var/run/secrets/kubernetes.io/serviceaccount/token)\n",
    "\n",
    "# Vault address\n",
    "VAULT_ADDR=https://vault.vault:8200\n",
    "\n",
    "# We sent a POST request to auth/<k8s-mount>/login passing the token and the role\n",
    "curl -k --request POST --data '{\"jwt\": \"'\"$KUBE_TOKEN\"'\", \"role\": \"role1\"}' $VAULT_ADDR/v1/auth/kubernetes/login | jq -r ."
   ]
  },
  {
   "attachments": {},
   "cell_type": "markdown",
   "metadata": {},
   "source": [
    "## (Tras crear la dB engine) Dynamic Secrets"
   ]
  },
  {
   "cell_type": "code",
   "execution_count": null,
   "metadata": {},
   "outputs": [],
   "source": [
    "%%bash\n",
    "\n",
    "# Actualizar la políticas con permisos de lectura al path de la database\n",
    "vault policy write devk8s - <<EOF\n",
    "path \"kvv2/*\" {\n",
    "  capabilities = [\"read\"]\n",
    "}\n",
    "path \"database/creds/readonly\" {\n",
    "  capabilities = [ \"read\"]\n",
    "}\n",
    "EOF\n",
    "\n",
    "\n",
    "cat > dynamic_secret.yaml <<EOF\n",
    "---\n",
    "apiVersion: secrets.hashicorp.com/v1alpha1\n",
    "kind: VaultDynamicSecret\n",
    "metadata:\n",
    "  namespace: default\n",
    "  name: exampled\n",
    "spec:\n",
    "  vaultAuthRef: example2\n",
    "  mount: database\n",
    "  role: readonly\n",
    "  destination:\n",
    "    create: true\n",
    "    name: dynamic-secret1\n",
    "EOF\n",
    "\n",
    "kubectl apply -f dynamic_secret.yaml\n",
    "echo '---'\n",
    "sleep 3\n",
    "kubectl describe VaultDynamicSecret exampled\n",
    "echo '---'\n",
    "sleep 5\n",
    "kubectl get secret dynamic-secret1 -o yaml"
   ]
  },
  {
   "cell_type": "code",
   "execution_count": null,
   "metadata": {},
   "outputs": [],
   "source": [
    "%%bash\n",
    "cat > mypod_db.yaml <<EOF\n",
    "apiVersion: v1\n",
    "kind: Pod\n",
    "metadata:\n",
    "  name: mypoddb\n",
    "  # Using a different service account\n",
    "spec:\n",
    "  containers:\n",
    "  - name: mypod\n",
    "    image: redis\n",
    "    volumeMounts:\n",
    "    - name: foo\n",
    "      mountPath: \"/etc/foo\"\n",
    "      readOnly: true\n",
    "  volumes:\n",
    "  - name: foo\n",
    "    secret:\n",
    "      secretName: dynamic-secret1\n",
    "      optional: true\n",
    "EOF\n",
    "\n",
    "\n",
    "# Despliega el POD\n",
    "kubectl apply -f mypod_db.yaml\n",
    "# Espera a que despliegue\n",
    "sleep 10 \n",
    "# Chequea secretos\n",
    "kubectl exec mypoddb  -- ls /etc/foo/\n",
    "echo \"\"\n",
    "echo \"------\"\n",
    "kubectl exec mypoddb -- cat /etc/foo/_raw"
   ]
  },
  {
   "attachments": {},
   "cell_type": "markdown",
   "metadata": {},
   "source": [
    "## Tras crear la LDAP engine"
   ]
  },
  {
   "cell_type": "code",
   "execution_count": null,
   "metadata": {},
   "outputs": [],
   "source": [
    "%%bash \n",
    "\n",
    "# Actualizar la políticas con permisos de lectura al path de la ldap engine\n",
    "vault policy write devk8s - <<EOF\n",
    "path \"kvv2/*\" {\n",
    "  capabilities = [\"read\"]\n",
    "}\n",
    "path \"database/creds/readonly\" {\n",
    "  capabilities = [ \"read\"]\n",
    "}\n",
    "path \"ldap/creds/dynamic\" {\n",
    "  capabilities = [ \"read\"]\n",
    "}\n",
    "EOF\n",
    "\n",
    "cat > dynamic_secret2.yaml <<EOF\n",
    "---\n",
    "apiVersion: secrets.hashicorp.com/v1alpha1\n",
    "kind: VaultDynamicSecret\n",
    "metadata:\n",
    "  namespace: default\n",
    "  name: exampled2\n",
    "spec:\n",
    "  vaultAuthRef: example2\n",
    "  mount: ldap\n",
    "  role: dynamic\n",
    "  destination:\n",
    "    create: true\n",
    "    name: dynamic-secret2\n",
    "EOF\n",
    "\n",
    "kubectl apply -f dynamic_secret2.yaml\n",
    "echo '---'\n",
    "sleep 3\n",
    "kubectl describe VaultDynamicSecret exampled2\n",
    "echo '---'\n",
    "sleep 5\n",
    "kubectl get secret dynamic-secret2 -o yaml"
   ]
  },
  {
   "cell_type": "code",
   "execution_count": null,
   "metadata": {},
   "outputs": [],
   "source": [
    "%%bash\n",
    "cat > mypod_ldap.yaml <<EOF\n",
    "apiVersion: v1\n",
    "kind: Pod\n",
    "metadata:\n",
    "  name: mypodldap\n",
    "  # Using a different service account\n",
    "spec:\n",
    "  containers:\n",
    "  - name: mypod\n",
    "    image: redis\n",
    "    volumeMounts:\n",
    "    - name: foo\n",
    "      mountPath: \"/etc/foo\"\n",
    "      readOnly: true\n",
    "  volumes:\n",
    "  - name: foo\n",
    "    secret:\n",
    "      secretName: dynamic-secret2\n",
    "      optional: true\n",
    "EOF\n",
    "kubectl apply -f mypod_ldap.yaml"
   ]
  },
  {
   "cell_type": "code",
   "execution_count": null,
   "metadata": {},
   "outputs": [],
   "source": [
    "%%bash \n",
    "sleep 10 \n",
    "kubectl exec mypodldap  -- ls /etc/foo/\n",
    "echo \"\"\n",
    "echo \"------\"\n",
    "kubectl exec mypodldap -- cat /etc/foo/_raw"
   ]
  }
 ],
 "metadata": {
  "kernelspec": {
   "display_name": "Python 3",
   "language": "python",
   "name": "python3"
  },
  "language_info": {
   "codemirror_mode": {
    "name": "ipython",
    "version": 3
   },
   "file_extension": ".py",
   "mimetype": "text/x-python",
   "name": "python",
   "nbconvert_exporter": "python",
   "pygments_lexer": "ipython3",
   "version": "3.9.6"
  },
  "orig_nbformat": 4,
  "vscode": {
   "interpreter": {
    "hash": "31f2aee4e71d21fbe5cf8b01ff0e069b9275f58929596ceb00d14d90e3e16cd6"
   }
  }
 },
 "nbformat": 4,
 "nbformat_minor": 2
}
