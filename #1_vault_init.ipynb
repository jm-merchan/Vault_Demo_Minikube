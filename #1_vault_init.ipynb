{
 "cells": [
  {
   "attachments": {},
   "cell_type": "markdown",
   "metadata": {},
   "source": [
    "### Based on https://developer.hashicorp.com/vault/tutorials/kubernetes/kubernetes-minikube-tls"
   ]
  },
  {
   "cell_type": "code",
   "execution_count": null,
   "metadata": {},
   "outputs": [],
   "source": [
    "%%bash\n",
    "minikube delete -p san"
   ]
  },
  {
   "cell_type": "code",
   "execution_count": null,
   "metadata": {},
   "outputs": [],
   "source": [
    "%%bash\n",
    "# Initialize docker first\n",
    "#sleep 30\n",
    "minikube start -p san"
   ]
  },
  {
   "cell_type": "code",
   "execution_count": null,
   "metadata": {},
   "outputs": [],
   "source": [
    "%%bash\n",
    "kubectl config use-context san"
   ]
  },
  {
   "cell_type": "code",
   "execution_count": null,
   "metadata": {},
   "outputs": [],
   "source": [
    "%%bash\n",
    "helm repo add hashicorp https://helm.releases.hashicorp.com\n",
    "helm repo update"
   ]
  },
  {
   "cell_type": "code",
   "execution_count": null,
   "metadata": {},
   "outputs": [],
   "source": [
    "%%bash\n",
    "rm -rf /tmp/vault\n",
    "mkdir /tmp/vault"
   ]
  },
  {
   "cell_type": "raw",
   "metadata": {},
   "source": [
    "## In a terminal\n",
    "export VAULT_K8S_NAMESPACE=\"vault\" \\\n",
    "export VAULT_HELM_RELEASE_NAME=\"vault\" \\\n",
    "export VAULT_SERVICE_NAME=\"vault-internal\" \\\n",
    "export K8S_CLUSTER_NAME=\"cluster.local\" \\\n",
    "export WORKDIR=/tmp/vault\n",
    "\n",
    "openssl genrsa -out ${WORKDIR}/vault.key 2048\n",
    "cat > ${WORKDIR}/vault-csr.conf <<EOF\n",
    "[req]\n",
    "default_bits = 2048\n",
    "prompt = no\n",
    "encrypt_key = yes\n",
    "default_md = sha256\n",
    "distinguished_name = kubelet_serving\n",
    "req_extensions = v3_req\n",
    "[ kubelet_serving ]\n",
    "O = system:nodes\n",
    "CN = system:node:*.${VAULT_HELM_RELEASE_NAME}.svc.${K8S_CLUSTER_NAME}\n",
    "[ v3_req ]\n",
    "basicConstraints = CA:FALSE\n",
    "keyUsage = nonRepudiation, digitalSignature, keyEncipherment, dataEncipherment\n",
    "extendedKeyUsage = serverAuth, clientAuth\n",
    "subjectAltName = @alt_names\n",
    "[alt_names]\n",
    "DNS.1 = *.${VAULT_SERVICE_NAME}\n",
    "DNS.2 = *.${VAULT_SERVICE_NAME}.${VAULT_HELM_RELEASE_NAME}.svc.${K8S_CLUSTER_NAME}\n",
    "DNS.3 = *.${VAULT_HELM_RELEASE_NAME}\n",
    "DNS.4 = *.${VAULT_HELM_RELEASE_NAME}.svc.${K8S_CLUSTER_NAME}\n",
    "IP.1 = 127.0.0.1\n",
    "EOF\n",
    "\n",
    "openssl req -new -key ${WORKDIR}/vault.key -out ${WORKDIR}/vault.csr -config ${WORKDIR}/vault-csr.conf\n",
    "\n",
    "\n",
    "cat > ${WORKDIR}/csr.yaml <<EOF\n",
    "apiVersion: certificates.k8s.io/v1\n",
    "kind: CertificateSigningRequest\n",
    "metadata:\n",
    "   name: vault.svc\n",
    "spec:\n",
    "   signerName: kubernetes.io/kubelet-serving\n",
    "   # signerName: kubernetes.io/kubelet-serving\n",
    "   expirationSeconds: 8640000\n",
    "   request: $(cat ${WORKDIR}/vault.csr|base64|tr -d '\\n')\n",
    "   usages:\n",
    "   - digital signature\n",
    "   - key encipherment\n",
    "   - server auth\n",
    "EOF\n",
    "\n",
    "kubectl create -f ${WORKDIR}/csr.yaml\n",
    "kubectl certificate approve vault.svc\n",
    "kubectl get csr vault.svc\n",
    "kubectl get csr vault.svc -o jsonpath='{.status.certificate}' | openssl base64 -d -A -out ${WORKDIR}/vault.crt\n",
    "kubectl config view \\\n",
    "--raw \\\n",
    "--minify \\\n",
    "--flatten \\\n",
    "-o jsonpath='{.clusters[].cluster.certificate-authority-data}' \\\n",
    "| base64 -d > ${WORKDIR}/vault.ca\n",
    "\n",
    "kubectl create namespace $VAULT_K8S_NAMESPACE\n",
    "\n",
    "kubectl create secret generic vault-ha-tls \\\n",
    "   -n $VAULT_K8S_NAMESPACE \\\n",
    "   --from-file=vault.key=${WORKDIR}/vault.key \\\n",
    "   --from-file=vault.crt=${WORKDIR}/vault.crt \\\n",
    "   --from-file=vault.ca=${WORKDIR}/vault.ca\n"
   ]
  },
  {
   "cell_type": "code",
   "execution_count": null,
   "metadata": {},
   "outputs": [],
   "source": [
    "%env WORKDIR=/tmp/vault\n",
    "%env VAULT_K8S_NAMESPACE=vault\n",
    "%env VAULT_HELM_RELEASE_NAME=vault\n",
    "%env VAULT_SERVICE_NAME=vault-internal \n",
    "%env K8S_CLUSTER_NAME=cluster.local "
   ]
  },
  {
   "attachments": {},
   "cell_type": "markdown",
   "metadata": {},
   "source": [
    "### Adding enterprise license based on https://developer.hashicorp.com/vault/docs/platform/k8s/helm/enterprise"
   ]
  },
  {
   "cell_type": "raw",
   "metadata": {},
   "source": [
    "## In a terminal\n",
    "secret=$(cat /Users/jose/Demo/Vault_ADP/ADP_PlayGround/vault.hclic)\n",
    "kubectl create secret generic vault-ent-license --from-literal=\"license=${secret}\" -n $VAULT_K8S_NAMESPACE"
   ]
  },
  {
   "cell_type": "code",
   "execution_count": null,
   "metadata": {},
   "outputs": [],
   "source": [
    "%%bash\n",
    "cat > ${WORKDIR}/overrides.yaml <<EOF\n",
    "global:\n",
    "   enabled: true\n",
    "   tlsDisable: false # Disabling TLS to avoid issues when connecting to Vault via port forwarding\n",
    "\n",
    "injector:\n",
    "   enabled: false\n",
    "   #repository: registry.connect.redhat.com/hashicorp/vault-k8s\n",
    "   # Testing on Mac M1 so moving to arm image\n",
    "   image:\n",
    "      repository: docker.io/hashicorp/vault-k8s\n",
    "      #repository: registry.connect.redhat.com/hashicorp/vault-k8s\n",
    "      # Testing on Mac M1 so moving to arm image\n",
    "   agentImage:\n",
    "      repository: docker.io/hashicorp/vault\n",
    "      #repository: registry.connect.redhat.com/hashicorp/vault\n",
    "      # Testing on Mac M1 so moving to arm image\n",
    "\n",
    "# Supported log levels include: trace, debug, info, warn, error\n",
    "logLevel: \"trace\" # Set to trace for initial troubleshooting, info for normal operation\n",
    "\n",
    "server:\n",
    "# config.yaml\n",
    "   image:\n",
    "      repository: docker.io/hashicorp/vault-enterprise\n",
    "      tag: 1.13.1-ent\n",
    "\n",
    "   enterpriseLicense:\n",
    "      secretName: vault-ent-license\n",
    "   extraEnvironmentVars:\n",
    "      VAULT_CACERT: /vault/userconfig/vault-ha-tls/vault.ca\n",
    "      VAULT_TLSCERT: /vault/userconfig/vault-ha-tls/vault.crt\n",
    "      VAULT_TLSKEY: /vault/userconfig/vault-ha-tls/vault.key\n",
    "   volumes:\n",
    "      - name: userconfig-vault-ha-tls\n",
    "        secret:\n",
    "         defaultMode: 420\n",
    "         secretName: vault-ha-tls\n",
    "   volumeMounts:\n",
    "      - mountPath: /vault/userconfig/vault-ha-tls\n",
    "        name: userconfig-vault-ha-tls\n",
    "        readOnly: true\n",
    "   standalone:\n",
    "      enabled: false\n",
    "   affinity: \"\" #No affinity rules so I can install 3 vault instances in a single\n",
    "   ha:\n",
    "      enabled: true\n",
    "      replicas: 3\n",
    "      raft:\n",
    "         enabled: true\n",
    "         setNodeId: true\n",
    "         config: |\n",
    "            ui = true\n",
    "            listener \"tcp\" {\n",
    "               tls_disable = 0 # Disabling TLS to avoid issues when connecting to Vault via port forwarding\n",
    "               address = \"[::]:8200\"\n",
    "               cluster_address = \"[::]:8201\"\n",
    "               tls_cert_file = \"/vault/userconfig/vault-ha-tls/vault.crt\"\n",
    "               tls_key_file  = \"/vault/userconfig/vault-ha-tls/vault.key\"\n",
    "               tls_client_ca_file = \"/vault/userconfig/vault-ha-tls/vault.ca\"\n",
    "               #api_address = \"https://vault-active.vault.svc.cluster.local:8200\"\n",
    "            }\n",
    "            storage \"raft\" {\n",
    "               path = \"/vault/data\"\n",
    "            \n",
    "               retry_join {\n",
    "                  auto_join             = \"provider=k8s namespace=vault label_selector=\\\"component=server,app.kubernetes.io/name=vault\\\"\"\n",
    "                  auto_join_scheme      = \"https\"\n",
    "                  leader_ca_cert_file   = \"/vault/userconfig/vault-ha-tls/vault.ca\"\n",
    "                  leader_tls_servername = \"vault-0.vault-internal\" #Tiene que matchear una SAN del certificado\n",
    "               }\n",
    "            \n",
    "            }\n",
    "            disable_mlock = true\n",
    "            service_registration \"kubernetes\" {}\n",
    "      # Vault UI\n",
    "   ui:\n",
    "      enabled: true\n",
    "      serviceType: \"LoadBalancer\"\n",
    "      serviceNodePort: null\n",
    "      externalPort: 8200\n",
    "EOF\n"
   ]
  },
  {
   "cell_type": "code",
   "execution_count": null,
   "metadata": {},
   "outputs": [],
   "source": [
    "%%bash\n",
    "helm install -n $VAULT_K8S_NAMESPACE $VAULT_HELM_RELEASE_NAME hashicorp/vault -f ${WORKDIR}/overrides.yaml"
   ]
  },
  {
   "cell_type": "code",
   "execution_count": null,
   "metadata": {},
   "outputs": [],
   "source": [
    "%%bash\n",
    "kubectl -n $VAULT_K8S_NAMESPACE get pods --watch"
   ]
  },
  {
   "cell_type": "code",
   "execution_count": null,
   "metadata": {},
   "outputs": [],
   "source": [
    "%%bash\n",
    "kubectl exec -n $VAULT_K8S_NAMESPACE vault-0 -- vault operator init \\\n",
    "    -key-shares=1 \\\n",
    "    -key-threshold=1 \\\n",
    "    -format=json > ${WORKDIR}/cluster-keys.json"
   ]
  },
  {
   "cell_type": "code",
   "execution_count": null,
   "metadata": {},
   "outputs": [],
   "source": [
    "%%bash\n",
    "jq -r \".unseal_keys_b64[]\" ${WORKDIR}/cluster-keys.json\n",
    "VAULT_UNSEAL_KEY=$(jq -r \".unseal_keys_b64[]\" ${WORKDIR}/cluster-keys.json)"
   ]
  },
  {
   "cell_type": "code",
   "execution_count": null,
   "metadata": {},
   "outputs": [],
   "source": [
    "%%bash\n",
    "kubectl exec -n $VAULT_K8S_NAMESPACE vault-0 -- vault operator unseal $(jq -r \".unseal_keys_b64[]\" ${WORKDIR}/cluster-keys.json)"
   ]
  },
  {
   "cell_type": "code",
   "execution_count": null,
   "metadata": {},
   "outputs": [],
   "source": [
    "%%bash\n",
    "kubectl exec -n $VAULT_K8S_NAMESPACE vault-1 -- vault operator unseal $(jq -r \".unseal_keys_b64[]\" ${WORKDIR}/cluster-keys.json)"
   ]
  },
  {
   "cell_type": "code",
   "execution_count": null,
   "metadata": {},
   "outputs": [],
   "source": [
    "%%bash\n",
    "kubectl exec -n $VAULT_K8S_NAMESPACE -ti vault-2 -- vault operator unseal $(jq -r \".unseal_keys_b64[]\" ${WORKDIR}/cluster-keys.json)"
   ]
  },
  {
   "cell_type": "code",
   "execution_count": null,
   "metadata": {},
   "outputs": [],
   "source": [
    "%%bash\n",
    "kubectl exec -n $VAULT_K8S_NAMESPACE -ti vault-0 -- vault status"
   ]
  },
  {
   "cell_type": "code",
   "execution_count": null,
   "metadata": {},
   "outputs": [],
   "source": [
    "%%bash\n",
    "kubectl exec -n $VAULT_K8S_NAMESPACE -ti vault-0 --  vault license inspect"
   ]
  },
  {
   "cell_type": "code",
   "execution_count": null,
   "metadata": {},
   "outputs": [],
   "source": [
    "%%bash\n",
    "kubectl exec -n $VAULT_K8S_NAMESPACE -ti vault-1 -- vault status"
   ]
  },
  {
   "cell_type": "code",
   "execution_count": null,
   "metadata": {},
   "outputs": [],
   "source": [
    "%%bash\n",
    "kubectl exec -n $VAULT_K8S_NAMESPACE -ti vault-1 --  vault license inspect"
   ]
  },
  {
   "cell_type": "code",
   "execution_count": null,
   "metadata": {},
   "outputs": [],
   "source": [
    "%%bash\n",
    "kubectl exec -n $VAULT_K8S_NAMESPACE -ti vault-2 -- vault status"
   ]
  },
  {
   "cell_type": "code",
   "execution_count": null,
   "metadata": {},
   "outputs": [],
   "source": [
    "%%bash\n",
    "kubectl exec -n $VAULT_K8S_NAMESPACE -ti vault-2 --  vault license inspect"
   ]
  },
  {
   "attachments": {},
   "cell_type": "markdown",
   "metadata": {},
   "source": [
    "## Get Root Token and port forward to Vault on port 8200"
   ]
  },
  {
   "cell_type": "code",
   "execution_count": null,
   "metadata": {},
   "outputs": [],
   "source": [
    "%%bash\n",
    "cat ${WORKDIR}/cluster-keys.json | jq -r \".root_token\"\n",
    "cat ${WORKDIR}/cluster-keys.json "
   ]
  },
  {
   "cell_type": "code",
   "execution_count": null,
   "metadata": {},
   "outputs": [],
   "source": [
    "%%bash\n",
    "#kubectl -n $VAULT_K8S_NAMESPACE get service vault\n",
    "kubectl -n vault port-forward service/vault 8200:8200 "
   ]
  }
 ],
 "metadata": {
  "kernelspec": {
   "display_name": "Python 3 (ipykernel)",
   "language": "python",
   "name": "python3"
  },
  "language_info": {
   "codemirror_mode": {
    "name": "ipython",
    "version": 3
   },
   "file_extension": ".py",
   "mimetype": "text/x-python",
   "name": "python",
   "nbconvert_exporter": "python",
   "pygments_lexer": "ipython3",
   "version": "3.9.6"
  },
  "vscode": {
   "interpreter": {
    "hash": "31f2aee4e71d21fbe5cf8b01ff0e069b9275f58929596ceb00d14d90e3e16cd6"
   }
  }
 },
 "nbformat": 4,
 "nbformat_minor": 2
}
